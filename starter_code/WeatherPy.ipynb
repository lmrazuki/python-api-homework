{
 "cells": [
  {
   "cell_type": "markdown",
   "metadata": {},
   "source": [
    "# WeatherPy\n",
    "----\n",
    "\n",
    "#### Note\n",
    "* Instructions have been included for each segment. You do not have to follow them exactly, but they are included to help you think through the steps."
   ]
  },
  {
   "cell_type": "code",
   "execution_count": 36,
   "metadata": {
    "scrolled": true
   },
   "outputs": [],
   "source": [
    "# Dependencies\n",
    "import requests\n",
    "import json\n",
    "import pandas as pd\n",
    "import random\n",
    "from citipy import citipy\n",
    "from random import uniform\n",
    "import matplotlib.pyplot as plt\n",
    "from api_keys import weather_api_key\n",
    "from scipy.stats import linregress"
   ]
  },
  {
   "cell_type": "markdown",
   "metadata": {},
   "source": [
    "## Generate Cities List"
   ]
  },
  {
   "cell_type": "code",
   "execution_count": 4,
   "metadata": {},
   "outputs": [],
   "source": [
    "cities = []\n",
    "while len(cities)< 550:\n",
    "    x = uniform(-180,180)\n",
    "    y = uniform(-90, 90)\n",
    "    city_code = citipy.nearest_city(x, y)\n",
    "    city_name = city_code.city_name\n",
    "    if city_name not in cities:\n",
    "        cities.append(city_name)"
   ]
  },
  {
   "cell_type": "code",
   "execution_count": 5,
   "metadata": {},
   "outputs": [
    {
     "data": {
      "text/plain": [
       "550"
      ]
     },
     "execution_count": 5,
     "metadata": {},
     "output_type": "execute_result"
    }
   ],
   "source": [
    "len(cities)"
   ]
  },
  {
   "cell_type": "markdown",
   "metadata": {},
   "source": [
    "### Perform API Calls\n",
    "* Perform a weather check on each city using a series of successive API calls.\n",
    "* Include a print log of each city as it'sbeing processed (with the city number and city name).\n"
   ]
  },
  {
   "cell_type": "code",
   "execution_count": 6,
   "metadata": {
    "scrolled": true
   },
   "outputs": [
    {
     "name": "stdout",
     "output_type": "stream",
     "text": [
      "1/550: Data not found for barentsburg\n",
      "2/550: Generating data for veraval\n",
      "3/550: Generating data for hermanus\n",
      "4/550: Generating data for qaanaaq\n",
      "5/550: Generating data for ushuaia\n",
      "6/550: Generating data for port-gentil\n",
      "7/550: Generating data for sao domingos do maranhao\n",
      "8/550: Generating data for meulaboh\n",
      "9/550: Generating data for port alfred\n",
      "10/550: Generating data for alberton\n",
      "11/550: Generating data for port elizabeth\n",
      "12/550: Generating data for porto velho\n",
      "13/550: Generating data for bredasdorp\n",
      "14/550: Generating data for busselton\n",
      "15/550: Generating data for lupiro\n",
      "16/550: Generating data for takoradi\n",
      "17/550: Generating data for pisco\n",
      "18/550: Generating data for nusaybin\n",
      "19/550: Generating data for vardo\n",
      "20/550: Data not found for belushya guba\n",
      "21/550: Generating data for kutum\n",
      "22/550: Generating data for canton\n",
      "23/550: Generating data for rossano\n",
      "24/550: Generating data for saint-augustin\n",
      "25/550: Data not found for taolanaro\n",
      "26/550: Generating data for longyearbyen\n",
      "27/550: Data not found for tsihombe\n",
      "28/550: Generating data for vigrestad\n",
      "29/550: Generating data for saint-pierre\n",
      "30/550: Generating data for albany\n",
      "31/550: Generating data for coihaique\n",
      "32/550: Generating data for saint-louis\n",
      "33/550: Data not found for illoqqortoormiut\n",
      "34/550: Generating data for turukhansk\n",
      "35/550: Generating data for camacha\n",
      "36/550: Generating data for upernavik\n",
      "37/550: Generating data for chicama\n",
      "38/550: Data not found for attawapiskat\n",
      "39/550: Generating data for castro\n",
      "40/550: Generating data for tasiilaq\n",
      "41/550: Generating data for narsaq\n",
      "42/550: Generating data for kpandae\n",
      "43/550: Generating data for grand gaube\n",
      "44/550: Generating data for faya\n",
      "45/550: Generating data for keti bandar\n",
      "46/550: Generating data for roberval\n",
      "47/550: Generating data for dehloran\n",
      "48/550: Generating data for san cristobal\n",
      "49/550: Data not found for el badari\n",
      "50/550: Generating data for najran\n",
      "51/550: Generating data for mar del plata\n",
      "52/550: Generating data for korla\n",
      "53/550: Data not found for umzimvubu\n",
      "54/550: Generating data for whithorn\n",
      "55/550: Generating data for chittaurgarh\n",
      "56/550: Generating data for clarksburg\n",
      "57/550: Generating data for dikson\n",
      "58/550: Generating data for east london\n",
      "59/550: Generating data for cidreira\n",
      "60/550: Generating data for pakhtakoron\n",
      "61/550: Generating data for bulungu\n",
      "62/550: Generating data for torbay\n",
      "63/550: Generating data for bambous virieux\n",
      "64/550: Generating data for husavik\n",
      "65/550: Generating data for saint-joseph\n",
      "66/550: Generating data for kruisfontein\n",
      "67/550: Generating data for jamestown\n",
      "68/550: Generating data for honningsvag\n",
      "69/550: Generating data for antsohihy\n",
      "70/550: Generating data for ponta do sol\n",
      "71/550: Generating data for codrington\n",
      "72/550: Generating data for lagoa\n",
      "73/550: Generating data for sao filipe\n",
      "74/550: Generating data for santa ana\n",
      "75/550: Generating data for carutapera\n",
      "76/550: Generating data for richards bay\n",
      "77/550: Generating data for bjornevatn\n",
      "78/550: Generating data for ekibastuz\n",
      "79/550: Generating data for orje\n",
      "80/550: Generating data for rabo de peixe\n",
      "81/550: Generating data for puerto del rosario\n",
      "82/550: Generating data for puerto narino\n",
      "83/550: Generating data for itarema\n",
      "84/550: Generating data for chuy\n",
      "85/550: Generating data for royan\n",
      "86/550: Generating data for gwadar\n",
      "87/550: Generating data for tocache\n",
      "88/550: Generating data for georgetown\n",
      "89/550: Generating data for zapolyarnyy\n",
      "90/550: Generating data for tarrafal\n",
      "91/550: Data not found for sorvag\n",
      "92/550: Generating data for ostrovnoy\n",
      "93/550: Generating data for cap malheureux\n",
      "94/550: Generating data for kulachi\n",
      "95/550: Generating data for state college\n",
      "96/550: Generating data for cockburn town\n",
      "97/550: Generating data for praia\n",
      "98/550: Generating data for bandarbeyla\n",
      "99/550: Generating data for rubio\n",
      "100/550: Generating data for rio gallegos\n",
      "101/550: Generating data for nizwa\n",
      "102/550: Generating data for souillac\n",
      "103/550: Generating data for asfi\n",
      "104/550: Generating data for iaciara\n",
      "105/550: Generating data for kalamazoo\n",
      "106/550: Generating data for ubinskoye\n",
      "107/550: Generating data for cape town\n",
      "108/550: Generating data for gamba\n",
      "109/550: Generating data for mitsamiouli\n",
      "110/550: Generating data for prainha\n",
      "111/550: Generating data for bandiagara\n",
      "112/550: Generating data for kamen-na-obi\n",
      "113/550: Generating data for sur\n",
      "114/550: Generating data for clyde river\n",
      "115/550: Generating data for burgeo\n",
      "116/550: Generating data for lyngseidet\n",
      "117/550: Generating data for margate\n",
      "118/550: Generating data for wankaner\n",
      "119/550: Generating data for paamiut\n",
      "120/550: Generating data for lavras\n",
      "121/550: Generating data for karlstad\n",
      "122/550: Generating data for san julian\n",
      "123/550: Generating data for antioquia\n",
      "124/550: Generating data for mitu\n",
      "125/550: Generating data for laguna\n",
      "126/550: Generating data for aasiaat\n",
      "127/550: Generating data for arraial do cabo\n",
      "128/550: Generating data for nanortalik\n",
      "129/550: Generating data for jaragua\n",
      "130/550: Generating data for antakya\n",
      "131/550: Generating data for luau\n",
      "132/550: Generating data for plettenberg bay\n",
      "133/550: Generating data for alekseyevka\n",
      "134/550: Data not found for barawe\n",
      "135/550: Generating data for bonavista\n",
      "136/550: Generating data for syracuse\n",
      "137/550: Generating data for nantucket\n",
      "138/550: Generating data for krasnoselkup\n",
      "139/550: Generating data for haukipudas\n",
      "140/550: Generating data for millinocket\n",
      "141/550: Generating data for hithadhoo\n",
      "142/550: Generating data for harmanli\n",
      "143/550: Data not found for toliary\n",
      "144/550: Generating data for merke\n",
      "145/550: Generating data for mehamn\n",
      "146/550: Generating data for ndele\n",
      "147/550: Generating data for fomboni\n",
      "148/550: Generating data for cabedelo\n",
      "149/550: Generating data for requena\n",
      "150/550: Generating data for goderich\n",
      "151/550: Generating data for biscarrosse\n",
      "152/550: Generating data for victoria\n",
      "153/550: Generating data for nouadhibou\n",
      "154/550: Generating data for hall\n",
      "155/550: Generating data for ribeira grande\n",
      "156/550: Generating data for hofn\n",
      "157/550: Generating data for inongo\n",
      "158/550: Generating data for chak azam sahu\n",
      "159/550: Generating data for talcahuano\n",
      "160/550: Data not found for karakendzha\n",
      "161/550: Generating data for the valley\n",
      "162/550: Generating data for dingle\n",
      "163/550: Data not found for mizpe ramon\n",
      "164/550: Generating data for olafsvik\n",
      "165/550: Generating data for ravar\n",
      "166/550: Generating data for springbok\n",
      "167/550: Generating data for antofagasta\n",
      "168/550: Generating data for lukovetskiy\n",
      "169/550: Generating data for rio verde de mato grosso\n",
      "170/550: Generating data for muisne\n",
      "171/550: Generating data for mandera\n",
      "172/550: Generating data for punta arenas\n",
      "173/550: Generating data for maine-soroa\n",
      "174/550: Generating data for vila velha\n",
      "175/550: Generating data for arona\n",
      "176/550: Generating data for san ramon\n",
      "177/550: Generating data for port-cartier\n",
      "178/550: Generating data for hamilton\n",
      "179/550: Generating data for presidencia roque saenz pena\n",
      "180/550: Generating data for jacareacanga\n",
      "181/550: Generating data for tarko-sale\n",
      "182/550: Generating data for jaisalmer\n",
      "183/550: Generating data for taoudenni\n",
      "184/550: Generating data for nicoya\n",
      "185/550: Generating data for prado\n",
      "186/550: Generating data for cognac\n",
      "187/550: Data not found for burica\n",
      "188/550: Generating data for mahebourg\n",
      "189/550: Generating data for dubai\n",
      "190/550: Data not found for amderma\n",
      "191/550: Generating data for timra\n",
      "192/550: Generating data for iquique\n",
      "193/550: Generating data for salalah\n",
      "194/550: Generating data for bridlington\n",
      "195/550: Generating data for bahia honda\n",
      "196/550: Generating data for tiznit\n",
      "197/550: Generating data for keflavik\n",
      "198/550: Generating data for mecca\n",
      "199/550: Data not found for mrirt\n",
      "200/550: Generating data for porkhov\n",
      "201/550: Generating data for monrovia\n",
      "202/550: Generating data for boa vista\n",
      "203/550: Generating data for eidfjord\n",
      "204/550: Generating data for bubaque\n",
      "205/550: Generating data for senanga\n",
      "206/550: Generating data for sande\n",
      "207/550: Generating data for matagami\n",
      "208/550: Generating data for marsa matruh\n",
      "209/550: Generating data for ifanadiana\n",
      "210/550: Generating data for aguimes\n",
      "211/550: Generating data for anloga\n",
      "212/550: Generating data for hadejia\n",
      "213/550: Generating data for saint-francois\n",
      "214/550: Generating data for sal rei\n",
      "215/550: Generating data for ipixuna\n"
     ]
    },
    {
     "name": "stdout",
     "output_type": "stream",
     "text": [
      "216/550: Generating data for demba\n",
      "217/550: Generating data for tazovskiy\n",
      "218/550: Generating data for tarare\n",
      "219/550: Generating data for los llanos de aridane\n",
      "220/550: Data not found for dinsor\n",
      "221/550: Generating data for ajaccio\n",
      "222/550: Generating data for santa maria\n",
      "223/550: Generating data for bengkulu\n",
      "224/550: Generating data for ancud\n",
      "225/550: Generating data for ipora\n",
      "226/550: Generating data for quatre cocos\n",
      "227/550: Data not found for mutsamudu\n",
      "228/550: Generating data for coquimbo\n",
      "229/550: Generating data for ibra\n",
      "230/550: Generating data for beyneu\n",
      "231/550: Generating data for balkhash\n",
      "232/550: Generating data for hambantota\n",
      "233/550: Generating data for lebu\n",
      "234/550: Generating data for klaksvik\n",
      "235/550: Generating data for moussoro\n",
      "236/550: Generating data for cuamba\n",
      "237/550: Generating data for ous\n",
      "238/550: Generating data for finsterwalde\n",
      "239/550: Generating data for wageningen\n",
      "240/550: Generating data for valdivia\n",
      "241/550: Data not found for formoso do araguaia\n",
      "242/550: Generating data for nova olinda do norte\n",
      "243/550: Generating data for diamantino\n",
      "244/550: Generating data for comodoro rivadavia\n",
      "245/550: Generating data for pizarro\n",
      "246/550: Generating data for vite\n",
      "247/550: Data not found for barbar\n",
      "248/550: Generating data for lixourion\n",
      "249/550: Generating data for campbeltown\n",
      "250/550: Generating data for saldanha\n",
      "251/550: Generating data for potosi\n",
      "252/550: Data not found for grand river south east\n",
      "253/550: Generating data for rorvik\n",
      "254/550: Generating data for yar-sale\n",
      "255/550: Generating data for saint-philippe\n",
      "256/550: Data not found for wahran\n",
      "257/550: Generating data for xuddur\n",
      "258/550: Generating data for santiago del estero\n",
      "259/550: Generating data for porto novo\n",
      "260/550: Generating data for oum hadjer\n",
      "261/550: Generating data for guanica\n",
      "262/550: Data not found for mahadday weyne\n",
      "263/550: Generating data for soligalich\n",
      "264/550: Generating data for saint george\n",
      "265/550: Generating data for mercedes\n",
      "266/550: Generating data for westport\n",
      "267/550: Generating data for sumbe\n",
      "268/550: Generating data for oistins\n",
      "269/550: Generating data for luderitz\n",
      "270/550: Generating data for arlit\n",
      "271/550: Generating data for marawi\n",
      "272/550: Generating data for kasongo\n",
      "273/550: Generating data for iqaluit\n",
      "274/550: Generating data for den helder\n",
      "275/550: Data not found for karaul\n",
      "276/550: Generating data for imbituba\n",
      "277/550: Generating data for luena\n",
      "278/550: Data not found for bargal\n",
      "279/550: Generating data for alushta\n",
      "280/550: Generating data for shafranovo\n",
      "281/550: Generating data for chervona sloboda\n",
      "282/550: Generating data for gamboma\n",
      "283/550: Generating data for urla\n",
      "284/550: Generating data for bridgetown\n",
      "285/550: Generating data for dzaoudzi\n",
      "286/550: Data not found for of\n",
      "287/550: Generating data for odweyne\n",
      "288/550: Generating data for rio grande\n",
      "289/550: Generating data for jumla\n",
      "290/550: Generating data for dembi dolo\n",
      "291/550: Data not found for bur gabo\n",
      "292/550: Generating data for vestmanna\n",
      "293/550: Generating data for beirut\n",
      "294/550: Generating data for sinnamary\n",
      "295/550: Generating data for xapuri\n",
      "296/550: Generating data for soyo\n",
      "297/550: Generating data for marataizes\n",
      "298/550: Generating data for zambezi\n",
      "299/550: Generating data for onverwacht\n",
      "300/550: Generating data for havoysund\n",
      "301/550: Generating data for mondolfo\n",
      "302/550: Generating data for wake forest\n",
      "303/550: Generating data for touros\n",
      "304/550: Generating data for villamontes\n",
      "305/550: Generating data for male\n",
      "306/550: Generating data for uruacu\n",
      "307/550: Generating data for saint-georges\n",
      "308/550: Generating data for lucapa\n",
      "309/550: Generating data for abha\n",
      "310/550: Generating data for borskoye\n",
      "311/550: Generating data for asosa\n",
      "312/550: Generating data for skibbereen\n",
      "313/550: Generating data for ambilobe\n",
      "314/550: Generating data for ampanihy\n",
      "315/550: Generating data for teguldet\n",
      "316/550: Data not found for urdzhar\n",
      "317/550: Generating data for necochea\n",
      "318/550: Generating data for manavalakurichi\n",
      "319/550: Generating data for metsavan\n",
      "320/550: Generating data for podor\n",
      "321/550: Generating data for pontes e lacerda\n",
      "322/550: Generating data for sliven\n",
      "323/550: Generating data for tiruchchendur\n",
      "324/550: Data not found for aflu\n",
      "325/550: Generating data for san jose\n",
      "326/550: Generating data for chingirlau\n",
      "327/550: Generating data for mungwi\n",
      "328/550: Generating data for tigre\n",
      "329/550: Generating data for toktogul\n",
      "330/550: Generating data for hun\n",
      "331/550: Generating data for taltal\n",
      "332/550: Generating data for dwarka\n",
      "333/550: Generating data for sarakhs\n",
      "334/550: Generating data for kamenka\n",
      "335/550: Generating data for harper\n",
      "336/550: Generating data for sao felix do xingu\n",
      "337/550: Generating data for virginia beach\n",
      "338/550: Generating data for obera\n",
      "339/550: Generating data for dhadar\n",
      "340/550: Data not found for warqla\n",
      "341/550: Generating data for khash\n",
      "342/550: Generating data for kovur\n",
      "343/550: Generating data for pangnirtung\n",
      "344/550: Generating data for menongue\n",
      "345/550: Generating data for kosh-agach\n",
      "346/550: Generating data for buraydah\n",
      "347/550: Generating data for sabaudia\n",
      "348/550: Generating data for ilulissat\n",
      "349/550: Generating data for zanjan\n",
      "350/550: Data not found for sinkat\n",
      "351/550: Generating data for san rafael del sur\n",
      "352/550: Generating data for chhapar\n",
      "353/550: Generating data for camana\n",
      "354/550: Generating data for pangody\n",
      "355/550: Generating data for thessalon\n",
      "356/550: Generating data for vila franca do campo\n",
      "357/550: Generating data for eberndorf\n",
      "358/550: Generating data for itupiranga\n",
      "359/550: Generating data for kargasok\n",
      "360/550: Generating data for sawakin\n",
      "361/550: Generating data for caravelas\n",
      "362/550: Generating data for cheremushskiy\n",
      "363/550: Generating data for bathsheba\n",
      "364/550: Generating data for salinopolis\n",
      "365/550: Generating data for adrar\n",
      "366/550: Generating data for sao joao da barra\n",
      "367/550: Generating data for nuuk\n",
      "368/550: Data not found for mocambique\n",
      "369/550: Generating data for buritizeiro\n",
      "370/550: Generating data for ginda\n",
      "371/550: Generating data for police\n",
      "372/550: Generating data for akersberga\n",
      "373/550: Generating data for berlevag\n",
      "374/550: Generating data for cajaruro\n",
      "375/550: Generating data for beloha\n",
      "376/550: Generating data for dondo\n",
      "377/550: Generating data for gizycko\n",
      "378/550: Generating data for torres\n",
      "379/550: Generating data for san-pedro\n",
      "380/550: Generating data for nacala\n",
      "381/550: Generating data for walvis bay\n",
      "382/550: Generating data for martil\n",
      "383/550: Data not found for anar darreh\n",
      "384/550: Generating data for shakawe\n",
      "385/550: Generating data for snasa\n",
      "386/550: Generating data for araouane\n",
      "387/550: Generating data for salinas\n",
      "388/550: Generating data for ushtobe\n",
      "389/550: Generating data for saint-prosper\n",
      "390/550: Generating data for bud\n",
      "391/550: Data not found for yefira\n",
      "392/550: Generating data for nalut\n",
      "393/550: Generating data for gebre guracha\n",
      "394/550: Generating data for tessalit\n",
      "395/550: Generating data for angoche\n",
      "396/550: Generating data for santa cruz\n",
      "397/550: Generating data for seminole\n",
      "398/550: Generating data for mangaratiba\n",
      "399/550: Generating data for curaca\n",
      "400/550: Generating data for sehithwa\n",
      "401/550: Generating data for bouca\n",
      "402/550: Generating data for sao borja\n",
      "403/550: Generating data for vuktyl\n",
      "404/550: Generating data for general roca\n",
      "405/550: Generating data for guiratinga\n",
      "406/550: Generating data for abnub\n",
      "407/550: Generating data for agapovka\n",
      "408/550: Data not found for inderborskiy\n",
      "409/550: Generating data for raga\n",
      "410/550: Generating data for bonthe\n",
      "411/550: Generating data for tabou\n",
      "412/550: Generating data for la peca\n",
      "413/550: Generating data for johnstown\n",
      "414/550: Generating data for hobyo\n",
      "415/550: Generating data for fez\n",
      "416/550: Generating data for bastia\n",
      "417/550: Generating data for gujan-mestras\n",
      "418/550: Generating data for conde\n",
      "419/550: Generating data for harrison\n",
      "420/550: Generating data for komsomolskiy\n",
      "421/550: Generating data for vilcun\n",
      "422/550: Generating data for maxixe\n",
      "423/550: Generating data for perg\n",
      "424/550: Generating data for marsabit\n",
      "425/550: Generating data for talaja\n",
      "426/550: Data not found for louisbourg\n",
      "427/550: Generating data for moa\n",
      "428/550: Data not found for kerki\n",
      "429/550: Generating data for puerto quijarro\n",
      "430/550: Generating data for santa cruz de la palma\n"
     ]
    },
    {
     "name": "stdout",
     "output_type": "stream",
     "text": [
      "431/550: Generating data for campos novos\n",
      "432/550: Generating data for lagos\n",
      "433/550: Generating data for santa isabel do rio negro\n",
      "434/550: Generating data for sfantu gheorghe\n",
      "435/550: Generating data for ginir\n",
      "436/550: Data not found for atsiki\n",
      "437/550: Generating data for rawson\n",
      "438/550: Generating data for panaba\n",
      "439/550: Generating data for tsiroanomandidy\n",
      "440/550: Generating data for waterbury\n",
      "441/550: Generating data for kavaratti\n",
      "442/550: Generating data for semey\n",
      "443/550: Data not found for stamsund\n",
      "444/550: Generating data for rize\n",
      "445/550: Generating data for yarada\n",
      "446/550: Generating data for tirumala\n",
      "447/550: Generating data for sinnai\n",
      "448/550: Generating data for ponta delgada\n",
      "449/550: Generating data for inirida\n",
      "450/550: Generating data for rocha\n",
      "451/550: Generating data for yanam\n",
      "452/550: Generating data for mana\n",
      "453/550: Generating data for buenos aires\n",
      "454/550: Generating data for pachora\n",
      "455/550: Generating data for batman\n",
      "456/550: Generating data for geraldton\n",
      "457/550: Generating data for krasnoshchekovo\n",
      "458/550: Generating data for storforshei\n",
      "459/550: Generating data for sambava\n",
      "460/550: Generating data for hadishahr\n",
      "461/550: Generating data for opuwo\n",
      "462/550: Generating data for tonj\n",
      "463/550: Generating data for nowe miasto lubawskie\n",
      "464/550: Data not found for tarudant\n",
      "465/550: Generating data for kalabo\n",
      "466/550: Generating data for amapa\n",
      "467/550: Generating data for ivdel\n",
      "468/550: Generating data for tucurui\n",
      "469/550: Generating data for oranjemund\n",
      "470/550: Generating data for henties bay\n",
      "471/550: Generating data for itambacuri\n",
      "472/550: Generating data for punta gorda\n",
      "473/550: Generating data for haifa\n",
      "474/550: Generating data for machalpur\n",
      "475/550: Generating data for sidi ali\n",
      "476/550: Generating data for mineiros\n",
      "477/550: Generating data for emirdag\n",
      "478/550: Generating data for qaqortoq\n",
      "479/550: Generating data for zephyrhills\n",
      "480/550: Generating data for seydi\n",
      "481/550: Generating data for voyvozh\n",
      "482/550: Generating data for mwinilunga\n",
      "483/550: Generating data for maicao\n",
      "484/550: Generating data for vinderup\n",
      "485/550: Generating data for robertsport\n",
      "486/550: Generating data for shurugwi\n",
      "487/550: Generating data for dakar\n",
      "488/550: Generating data for stirling\n",
      "489/550: Generating data for abeche\n",
      "490/550: Generating data for havelock\n",
      "491/550: Generating data for mahibadhoo\n",
      "492/550: Generating data for emba\n",
      "493/550: Generating data for damietta\n",
      "494/550: Generating data for norton\n",
      "495/550: Generating data for nurota\n",
      "496/550: Generating data for gornoye loo\n",
      "497/550: Data not found for mahaicony\n",
      "498/550: Generating data for riyadh\n",
      "499/550: Generating data for jiwani\n",
      "500/550: Generating data for nioro\n",
      "501/550: Generating data for mogadishu\n",
      "502/550: Generating data for santa isabel\n",
      "503/550: Generating data for mastic beach\n",
      "504/550: Data not found for tawkar\n",
      "505/550: Generating data for namibe\n",
      "506/550: Generating data for havre-saint-pierre\n",
      "507/550: Generating data for huarmey\n",
      "508/550: Generating data for pervomayskoye\n",
      "509/550: Generating data for hosdurga\n",
      "510/550: Generating data for sonqor\n",
      "511/550: Generating data for chute-aux-outardes\n",
      "512/550: Generating data for ochakiv\n",
      "513/550: Generating data for gacko\n",
      "514/550: Generating data for kulhudhuffushi\n",
      "515/550: Generating data for chulucanas\n",
      "516/550: Generating data for vestmannaeyjar\n",
      "517/550: Generating data for beyla\n",
      "518/550: Generating data for amot\n",
      "519/550: Data not found for bolungarvik\n",
      "520/550: Generating data for vyshkov\n",
      "521/550: Generating data for kaoma\n",
      "522/550: Data not found for chore\n",
      "523/550: Generating data for orsha\n",
      "524/550: Data not found for bokspits\n",
      "525/550: Generating data for chirongui\n",
      "526/550: Generating data for jutai\n",
      "527/550: Generating data for lafiagi\n",
      "528/550: Generating data for shelburne\n",
      "529/550: Generating data for skelleftea\n",
      "530/550: Generating data for marzuq\n",
      "531/550: Generating data for lima\n",
      "532/550: Generating data for qasigiannguit\n",
      "533/550: Generating data for chingola\n",
      "534/550: Generating data for hoyanger\n",
      "535/550: Generating data for sao jose da coroa grande\n",
      "536/550: Generating data for ivybridge\n",
      "537/550: Generating data for termoli\n",
      "538/550: Generating data for altay\n",
      "539/550: Data not found for paradwip\n",
      "540/550: Generating data for macusani\n",
      "541/550: Generating data for treinta y tres\n",
      "542/550: Generating data for nagapattinam\n",
      "543/550: Generating data for carnarvon\n",
      "544/550: Generating data for beni suef\n",
      "545/550: Generating data for aripuana\n",
      "546/550: Generating data for halifax\n",
      "547/550: Generating data for jalingo\n",
      "548/550: Generating data for nyagan\n",
      "549/550: Generating data for bafq\n",
      "550/550: Generating data for zyryanovsk\n"
     ]
    }
   ],
   "source": [
    "# Save config information.\n",
    "url = \"http://api.openweathermap.org/data/2.5/weather?\"\n",
    "units = \"metric\"\n",
    "\n",
    "# Build partial query URL\n",
    "query_url = f\"{url}appid={weather_api_key}&units={units}&q=\"\n",
    "\n",
    "# setting up empty lists to create DF\n",
    "lat = []\n",
    "lng = []\n",
    "temp = []\n",
    "humidity = []\n",
    "cloudiness = []\n",
    "wind_speed = []\n",
    "country = []\n",
    "date = []\n",
    "df_cities=[]\n",
    "\n",
    "for index, name in enumerate(cities):\n",
    "    try:\n",
    "        response = requests.get(query_url + name).json()\n",
    "        df_cities.append(response[\"name\"])\n",
    "        lat.append(response['coord']['lat'])\n",
    "        lng.append(response['coord']['lat'])\n",
    "        temp.append(response['main']['temp_max'])\n",
    "        humidity.append(response['main']['humidity'])\n",
    "        cloudiness.append(response['clouds']['all'])\n",
    "        wind_speed.append(response['wind']['speed'])\n",
    "        country.append(response['sys']['country'])\n",
    "        date.append(response['dt'])\n",
    "        print(f\"{index+1}/{len(cities)}: Generating data for {name}\")\n",
    "    except:\n",
    "        print(f\"{index+1}/{len(cities)}: Data not found for {name}\")"
   ]
  },
  {
   "cell_type": "markdown",
   "metadata": {},
   "source": [
    "### Convert Raw Data to DataFrame\n",
    "* Export the city data into a .csv.\n",
    "* Display the DataFrame"
   ]
  },
  {
   "cell_type": "code",
   "execution_count": 7,
   "metadata": {
    "scrolled": true
   },
   "outputs": [
    {
     "data": {
      "text/html": [
       "<div>\n",
       "<style scoped>\n",
       "    .dataframe tbody tr th:only-of-type {\n",
       "        vertical-align: middle;\n",
       "    }\n",
       "\n",
       "    .dataframe tbody tr th {\n",
       "        vertical-align: top;\n",
       "    }\n",
       "\n",
       "    .dataframe thead th {\n",
       "        text-align: right;\n",
       "    }\n",
       "</style>\n",
       "<table border=\"1\" class=\"dataframe\">\n",
       "  <thead>\n",
       "    <tr style=\"text-align: right;\">\n",
       "      <th></th>\n",
       "      <th>City</th>\n",
       "      <th>Lat</th>\n",
       "      <th>Lng</th>\n",
       "      <th>Max temp</th>\n",
       "      <th>Humidity</th>\n",
       "      <th>Cloudiness</th>\n",
       "      <th>Wind Speed</th>\n",
       "      <th>Country</th>\n",
       "      <th>Date</th>\n",
       "    </tr>\n",
       "  </thead>\n",
       "  <tbody>\n",
       "    <tr>\n",
       "      <th>0</th>\n",
       "      <td>Verāval</td>\n",
       "      <td>20.90</td>\n",
       "      <td>20.90</td>\n",
       "      <td>28.39</td>\n",
       "      <td>71</td>\n",
       "      <td>14</td>\n",
       "      <td>4.76</td>\n",
       "      <td>IN</td>\n",
       "      <td>1601443628</td>\n",
       "    </tr>\n",
       "    <tr>\n",
       "      <th>1</th>\n",
       "      <td>Hermanus</td>\n",
       "      <td>-34.42</td>\n",
       "      <td>-34.42</td>\n",
       "      <td>8.89</td>\n",
       "      <td>92</td>\n",
       "      <td>40</td>\n",
       "      <td>0.95</td>\n",
       "      <td>ZA</td>\n",
       "      <td>1601443629</td>\n",
       "    </tr>\n",
       "    <tr>\n",
       "      <th>2</th>\n",
       "      <td>Qaanaaq</td>\n",
       "      <td>77.48</td>\n",
       "      <td>77.48</td>\n",
       "      <td>-10.33</td>\n",
       "      <td>78</td>\n",
       "      <td>0</td>\n",
       "      <td>3.14</td>\n",
       "      <td>GL</td>\n",
       "      <td>1601443629</td>\n",
       "    </tr>\n",
       "    <tr>\n",
       "      <th>3</th>\n",
       "      <td>Ushuaia</td>\n",
       "      <td>-54.80</td>\n",
       "      <td>-54.80</td>\n",
       "      <td>-1.00</td>\n",
       "      <td>100</td>\n",
       "      <td>75</td>\n",
       "      <td>7.70</td>\n",
       "      <td>AR</td>\n",
       "      <td>1601443629</td>\n",
       "    </tr>\n",
       "    <tr>\n",
       "      <th>4</th>\n",
       "      <td>Port-Gentil</td>\n",
       "      <td>-0.72</td>\n",
       "      <td>-0.72</td>\n",
       "      <td>24.90</td>\n",
       "      <td>76</td>\n",
       "      <td>100</td>\n",
       "      <td>4.12</td>\n",
       "      <td>GA</td>\n",
       "      <td>1601443629</td>\n",
       "    </tr>\n",
       "    <tr>\n",
       "      <th>5</th>\n",
       "      <td>São Domingos do Maranhão</td>\n",
       "      <td>-5.58</td>\n",
       "      <td>-5.58</td>\n",
       "      <td>23.55</td>\n",
       "      <td>79</td>\n",
       "      <td>79</td>\n",
       "      <td>1.71</td>\n",
       "      <td>BR</td>\n",
       "      <td>1601443630</td>\n",
       "    </tr>\n",
       "    <tr>\n",
       "      <th>6</th>\n",
       "      <td>Meulaboh</td>\n",
       "      <td>4.14</td>\n",
       "      <td>4.14</td>\n",
       "      <td>30.00</td>\n",
       "      <td>65</td>\n",
       "      <td>86</td>\n",
       "      <td>3.43</td>\n",
       "      <td>ID</td>\n",
       "      <td>1601443630</td>\n",
       "    </tr>\n",
       "    <tr>\n",
       "      <th>7</th>\n",
       "      <td>Port Alfred</td>\n",
       "      <td>-33.59</td>\n",
       "      <td>-33.59</td>\n",
       "      <td>13.73</td>\n",
       "      <td>69</td>\n",
       "      <td>9</td>\n",
       "      <td>4.10</td>\n",
       "      <td>ZA</td>\n",
       "      <td>1601443630</td>\n",
       "    </tr>\n",
       "    <tr>\n",
       "      <th>8</th>\n",
       "      <td>Alberton</td>\n",
       "      <td>46.82</td>\n",
       "      <td>46.82</td>\n",
       "      <td>18.92</td>\n",
       "      <td>87</td>\n",
       "      <td>21</td>\n",
       "      <td>8.14</td>\n",
       "      <td>CA</td>\n",
       "      <td>1601443630</td>\n",
       "    </tr>\n",
       "    <tr>\n",
       "      <th>9</th>\n",
       "      <td>Port Elizabeth</td>\n",
       "      <td>-33.92</td>\n",
       "      <td>-33.92</td>\n",
       "      <td>10.00</td>\n",
       "      <td>87</td>\n",
       "      <td>5</td>\n",
       "      <td>1.50</td>\n",
       "      <td>ZA</td>\n",
       "      <td>1601443630</td>\n",
       "    </tr>\n",
       "    <tr>\n",
       "      <th>10</th>\n",
       "      <td>Porto Velho</td>\n",
       "      <td>-8.76</td>\n",
       "      <td>-8.76</td>\n",
       "      <td>23.00</td>\n",
       "      <td>94</td>\n",
       "      <td>20</td>\n",
       "      <td>0.50</td>\n",
       "      <td>BR</td>\n",
       "      <td>1601443631</td>\n",
       "    </tr>\n",
       "    <tr>\n",
       "      <th>11</th>\n",
       "      <td>Bredasdorp</td>\n",
       "      <td>-34.53</td>\n",
       "      <td>-34.53</td>\n",
       "      <td>7.00</td>\n",
       "      <td>93</td>\n",
       "      <td>29</td>\n",
       "      <td>1.50</td>\n",
       "      <td>ZA</td>\n",
       "      <td>1601443631</td>\n",
       "    </tr>\n",
       "    <tr>\n",
       "      <th>12</th>\n",
       "      <td>Busselton</td>\n",
       "      <td>-33.65</td>\n",
       "      <td>-33.65</td>\n",
       "      <td>17.78</td>\n",
       "      <td>81</td>\n",
       "      <td>100</td>\n",
       "      <td>2.68</td>\n",
       "      <td>AU</td>\n",
       "      <td>1601443631</td>\n",
       "    </tr>\n",
       "    <tr>\n",
       "      <th>13</th>\n",
       "      <td>Lupiro</td>\n",
       "      <td>-8.38</td>\n",
       "      <td>-8.38</td>\n",
       "      <td>23.38</td>\n",
       "      <td>71</td>\n",
       "      <td>95</td>\n",
       "      <td>2.97</td>\n",
       "      <td>TZ</td>\n",
       "      <td>1601443631</td>\n",
       "    </tr>\n",
       "    <tr>\n",
       "      <th>14</th>\n",
       "      <td>Takoradze</td>\n",
       "      <td>4.88</td>\n",
       "      <td>4.88</td>\n",
       "      <td>24.02</td>\n",
       "      <td>92</td>\n",
       "      <td>78</td>\n",
       "      <td>4.10</td>\n",
       "      <td>GH</td>\n",
       "      <td>1601443420</td>\n",
       "    </tr>\n",
       "    <tr>\n",
       "      <th>15</th>\n",
       "      <td>Pisco</td>\n",
       "      <td>-13.70</td>\n",
       "      <td>-13.70</td>\n",
       "      <td>17.00</td>\n",
       "      <td>82</td>\n",
       "      <td>90</td>\n",
       "      <td>1.50</td>\n",
       "      <td>PE</td>\n",
       "      <td>1601443632</td>\n",
       "    </tr>\n",
       "    <tr>\n",
       "      <th>16</th>\n",
       "      <td>Nisibis</td>\n",
       "      <td>37.08</td>\n",
       "      <td>37.08</td>\n",
       "      <td>26.00</td>\n",
       "      <td>19</td>\n",
       "      <td>0</td>\n",
       "      <td>4.60</td>\n",
       "      <td>TR</td>\n",
       "      <td>1601443632</td>\n",
       "    </tr>\n",
       "    <tr>\n",
       "      <th>17</th>\n",
       "      <td>Vardø</td>\n",
       "      <td>70.37</td>\n",
       "      <td>70.37</td>\n",
       "      <td>10.00</td>\n",
       "      <td>81</td>\n",
       "      <td>75</td>\n",
       "      <td>3.60</td>\n",
       "      <td>NO</td>\n",
       "      <td>1601443632</td>\n",
       "    </tr>\n",
       "    <tr>\n",
       "      <th>18</th>\n",
       "      <td>Kutum</td>\n",
       "      <td>14.20</td>\n",
       "      <td>14.20</td>\n",
       "      <td>24.05</td>\n",
       "      <td>59</td>\n",
       "      <td>98</td>\n",
       "      <td>4.50</td>\n",
       "      <td>SD</td>\n",
       "      <td>1601443633</td>\n",
       "    </tr>\n",
       "    <tr>\n",
       "      <th>19</th>\n",
       "      <td>Guangzhou</td>\n",
       "      <td>23.12</td>\n",
       "      <td>23.12</td>\n",
       "      <td>33.89</td>\n",
       "      <td>83</td>\n",
       "      <td>75</td>\n",
       "      <td>5.00</td>\n",
       "      <td>CN</td>\n",
       "      <td>1601443566</td>\n",
       "    </tr>\n",
       "  </tbody>\n",
       "</table>\n",
       "</div>"
      ],
      "text/plain": [
       "                        City    Lat    Lng  Max temp  Humidity  Cloudiness  \\\n",
       "0                    Verāval  20.90  20.90     28.39        71          14   \n",
       "1                   Hermanus -34.42 -34.42      8.89        92          40   \n",
       "2                    Qaanaaq  77.48  77.48    -10.33        78           0   \n",
       "3                    Ushuaia -54.80 -54.80     -1.00       100          75   \n",
       "4                Port-Gentil  -0.72  -0.72     24.90        76         100   \n",
       "5   São Domingos do Maranhão  -5.58  -5.58     23.55        79          79   \n",
       "6                   Meulaboh   4.14   4.14     30.00        65          86   \n",
       "7                Port Alfred -33.59 -33.59     13.73        69           9   \n",
       "8                   Alberton  46.82  46.82     18.92        87          21   \n",
       "9             Port Elizabeth -33.92 -33.92     10.00        87           5   \n",
       "10               Porto Velho  -8.76  -8.76     23.00        94          20   \n",
       "11                Bredasdorp -34.53 -34.53      7.00        93          29   \n",
       "12                 Busselton -33.65 -33.65     17.78        81         100   \n",
       "13                    Lupiro  -8.38  -8.38     23.38        71          95   \n",
       "14                 Takoradze   4.88   4.88     24.02        92          78   \n",
       "15                     Pisco -13.70 -13.70     17.00        82          90   \n",
       "16                   Nisibis  37.08  37.08     26.00        19           0   \n",
       "17                     Vardø  70.37  70.37     10.00        81          75   \n",
       "18                     Kutum  14.20  14.20     24.05        59          98   \n",
       "19                 Guangzhou  23.12  23.12     33.89        83          75   \n",
       "\n",
       "    Wind Speed Country        Date  \n",
       "0         4.76      IN  1601443628  \n",
       "1         0.95      ZA  1601443629  \n",
       "2         3.14      GL  1601443629  \n",
       "3         7.70      AR  1601443629  \n",
       "4         4.12      GA  1601443629  \n",
       "5         1.71      BR  1601443630  \n",
       "6         3.43      ID  1601443630  \n",
       "7         4.10      ZA  1601443630  \n",
       "8         8.14      CA  1601443630  \n",
       "9         1.50      ZA  1601443630  \n",
       "10        0.50      BR  1601443631  \n",
       "11        1.50      ZA  1601443631  \n",
       "12        2.68      AU  1601443631  \n",
       "13        2.97      TZ  1601443631  \n",
       "14        4.10      GH  1601443420  \n",
       "15        1.50      PE  1601443632  \n",
       "16        4.60      TR  1601443632  \n",
       "17        3.60      NO  1601443632  \n",
       "18        4.50      SD  1601443633  \n",
       "19        5.00      CN  1601443566  "
      ]
     },
     "execution_count": 7,
     "metadata": {},
     "output_type": "execute_result"
    }
   ],
   "source": [
    "weather_dict = {\n",
    "    \"City\": df_cities,\n",
    "    \"Lat\": lat,\n",
    "    \"Lng\": lng,\n",
    "    \"Max temp\": temp,\n",
    "    \"Humidity\": humidity,\n",
    "    \"Cloudiness\": cloudiness,\n",
    "    \"Wind Speed\": wind_speed,\n",
    "    \"Country\": country,\n",
    "    \"Date\": date\n",
    "}\n",
    "weather_data = pd.DataFrame(weather_dict)\n",
    "weather_data.head(20)"
   ]
  },
  {
   "cell_type": "markdown",
   "metadata": {},
   "source": [
    "## Inspect the data and remove the cities where the humidity > 100%.\n",
    "----\n",
    "Skip this step if there are no cities that have humidity > 100%. "
   ]
  },
  {
   "cell_type": "code",
   "execution_count": 10,
   "metadata": {},
   "outputs": [
    {
     "name": "stdout",
     "output_type": "stream",
     "text": [
      "Removing 34 cities from the DF due to Humidity = 100\n"
     ]
    }
   ],
   "source": [
    "humidity_weather_df = weather_data[weather_data[\"Humidity\"]==100]\n",
    "print(f\"Removing {len(humidity_weather_df)} cities from the DF due to Humidity = 100\")"
   ]
  },
  {
   "cell_type": "code",
   "execution_count": 54,
   "metadata": {},
   "outputs": [],
   "source": [
    "clean_weather_df = weather_data[weather_data[\"Humidity\"]<100]\n",
    "clean_weather_df.head()\n",
    "clean_weather_df.to_csv(\"../output_data/weather_data.csv\",index = False, header = True)"
   ]
  },
  {
   "cell_type": "markdown",
   "metadata": {},
   "source": [
    "## Plotting the Data\n",
    "* Use proper labeling of the plots using plot titles (including date of analysis) and axes labels.\n",
    "* Save the plotted figures as .pngs."
   ]
  },
  {
   "cell_type": "code",
   "execution_count": 19,
   "metadata": {},
   "outputs": [
    {
     "data": {
      "text/plain": [
       "City           object\n",
       "Lat           float64\n",
       "Lng           float64\n",
       "Max temp      float64\n",
       "Humidity        int64\n",
       "Cloudiness      int64\n",
       "Wind Speed    float64\n",
       "Country        object\n",
       "Date            int64\n",
       "dtype: object"
      ]
     },
     "execution_count": 19,
     "metadata": {},
     "output_type": "execute_result"
    }
   ],
   "source": [
    "clean_weather_df.dtypes"
   ]
  },
  {
   "cell_type": "markdown",
   "metadata": {},
   "source": [
    "## Latitude vs. Temperature Plot\n",
    "This graph is examining if there is a relationship between Latitude and Temperature. "
   ]
  },
  {
   "cell_type": "code",
   "execution_count": 51,
   "metadata": {
    "scrolled": true
   },
   "outputs": [
    {
     "data": {
      "image/png": "[encoded data removed]",
      "text/plain": [
       "<Figure size 432x288 with 1 Axes>"
      ]
     },
     "metadata": {
      "needs_background": "light"
     },
     "output_type": "display_data"
    }
   ],
   "source": [
    "lat = clean_weather_df[\"Lat\"].tolist()\n",
    "temp = clean_weather_df[\"Max temp\"].tolist()\n",
    "plt.scatter(lat,temp, marker = \"o\", edgecolors =\"black\")\n",
    "plt.xlabel(\"Latitude\")\n",
    "plt.ylabel(\"Temperature (C)\")\n",
    "plt.title(\"Latitude vs. Temperature\", fontweight = \"bold\")\n",
    "plt.savefig(\"../output_data/LatvsTemp.png\")"
   ]
  },
  {
   "cell_type": "markdown",
   "metadata": {},
   "source": [
    "## Latitude vs. Humidity Plot\n",
    "This graph is examining if there is a relationship between Latitude and Humidity. "
   ]
  },
  {
   "cell_type": "code",
   "execution_count": 52,
   "metadata": {},
   "outputs": [
    {
     "data": {
      "image/png": "[encoded data removed]",
      "text/plain": [
       "<Figure size 432x288 with 1 Axes>"
      ]
     },
     "metadata": {
      "needs_background": "light"
     },
     "output_type": "display_data"
    }
   ],
   "source": [
    "lat = clean_weather_df[\"Lat\"].tolist()\n",
    "humid = clean_weather_df[\"Humidity\"].tolist()\n",
    "plt.scatter(lat, humid, marker = \"o\", edgecolors =\"black\")\n",
    "plt.xlabel(\"Latitude\")\n",
    "plt.ylabel(\"Humidity %\")\n",
    "plt.title(\"Latitude vs. Humidity\", fontweight = \"bold\")\n",
    "plt.savefig(\"../output_data/LatvsHumidity.png\")"
   ]
  },
  {
   "cell_type": "markdown",
   "metadata": {},
   "source": [
    "## Latitude vs. Cloudiness Plot\n",
    "This graph is examining if there is a relationship between Latitude and Cloudiness. "
   ]
  },
  {
   "cell_type": "code",
   "execution_count": 50,
   "metadata": {},
   "outputs": [
    {
     "data": {
      "image/png": "[encoded data removed]",
      "text/plain": [
       "<Figure size 432x288 with 1 Axes>"
      ]
     },
     "metadata": {
      "needs_background": "light"
     },
     "output_type": "display_data"
    }
   ],
   "source": [
    "lat = clean_weather_df[\"Lat\"].tolist()\n",
    "cloud = clean_weather_df[\"Cloudiness\"].tolist()\n",
    "plt.scatter(lat, cloud, marker = \"o\", edgecolors =\"black\")\n",
    "plt.xlabel(\"Latitude\")\n",
    "plt.ylabel(\"Cloudiness\")\n",
    "plt.title(\"Latitude vs. Cloudiness\", fontweight = \"bold\")\n",
    "plt.savefig(\"../output_data/LatvsCloud.png\")"
   ]
  },
  {
   "cell_type": "markdown",
   "metadata": {},
   "source": [
    "## Latitude vs. Wind Speed Plot\n",
    "This graph is examining if there is a relationship between Latitude and Wind Speed. "
   ]
  },
  {
   "cell_type": "code",
   "execution_count": 53,
   "metadata": {},
   "outputs": [
    {
     "data": {
      "image/png": "[encoded data removed]",
      "text/plain": [
       "<Figure size 432x288 with 1 Axes>"
      ]
     },
     "metadata": {
      "needs_background": "light"
     },
     "output_type": "display_data"
    }
   ],
   "source": [
    "lat = clean_weather_df[\"Lat\"].tolist()\n",
    "wind = clean_weather_df[\"Wind Speed\"].tolist()\n",
    "plt.scatter(lat, wind, marker = \"o\", edgecolors =\"black\")\n",
    "plt.xlabel(\"Latitude\")\n",
    "plt.ylabel(\"Wind Speed (mp/h)\")\n",
    "plt.title(\"Latitude vs. Wind Speed\", fontweight = \"bold\")\n",
    "plt.savefig(\"../output_data/LatvsWind.png\")"
   ]
  },
  {
   "cell_type": "markdown",
   "metadata": {},
   "source": [
    "## Linear Regression"
   ]
  },
  {
   "cell_type": "markdown",
   "metadata": {},
   "source": [
    "####  Northern Hemisphere - Max Temp vs. Latitude Linear Regression"
   ]
  },
  {
   "cell_type": "code",
   "execution_count": 41,
   "metadata": {},
   "outputs": [],
   "source": [
    "north_df = clean_weather_df[clean_weather_df['Lat']>0]\n",
    "south_df = clean_weather_df[clean_weather_df['Lat']<0]"
   ]
  },
  {
   "cell_type": "code",
   "execution_count": 42,
   "metadata": {},
   "outputs": [
    {
     "name": "stdout",
     "output_type": "stream",
     "text": [
      "The equation is: y = -0.37x + 31.08\n",
      "The r-squared is: 0.6795002915438157\n"
     ]
    }
   ],
   "source": [
    "x_values = north_df[\"Lat\"]\n",
    "y_values = north_df[\"Max temp\"]\n",
    "(slope, intercept, rvalue, pvalue, stderr) = linregress(x_values, y_values)\n",
    "regress_values = x_values * slope + intercept\n",
    "line_eq = \"y = \" + str(round(slope,2)) + \"x + \" + str(round(intercept,2))\n",
    "print(f\"The equation is: {line_eq}\")\n",
    "print(f\"The r-squared is: {rvalue**2}\")"
   ]
  },
  {
   "cell_type": "markdown",
   "metadata": {},
   "source": [
    "####  Southern Hemisphere - Max Temp vs. Latitude Linear Regression"
   ]
  },
  {
   "cell_type": "code",
   "execution_count": 43,
   "metadata": {},
   "outputs": [
    {
     "name": "stdout",
     "output_type": "stream",
     "text": [
      "The equation is: y = 0.4x + 27.11\n",
      "The r-squared is: 0.5035463375436121\n"
     ]
    }
   ],
   "source": [
    "x_values = south_df[\"Lat\"]\n",
    "y_values = south_df[\"Max temp\"]\n",
    "(slope, intercept, rvalue, pvalue, stderr) = linregress(x_values, y_values)\n",
    "regress_values = x_values * slope + intercept\n",
    "line_eq = \"y = \" + str(round(slope,2)) + \"x + \" + str(round(intercept,2))\n",
    "print(f\"The equation is: {line_eq}\")\n",
    "print(f\"The r-squared is: {rvalue**2}\")"
   ]
  },
  {
   "cell_type": "markdown",
   "metadata": {},
   "source": [
    "### Analysis\n",
    "There seems to be a reasonable relationship between Latitude and the temperature. Particularly in the Northern hemisphere with the R-Squared value = 0.67, telling us quite a strong correlation exisits."
   ]
  },
  {
   "cell_type": "markdown",
   "metadata": {},
   "source": [
    "####  Northern Hemisphere - Humidity (%) vs. Latitude Linear Regression"
   ]
  },
  {
   "cell_type": "code",
   "execution_count": 44,
   "metadata": {},
   "outputs": [
    {
     "name": "stdout",
     "output_type": "stream",
     "text": [
      "The equation is: y = 0.12x + 68.75\n",
      "The r-squared is: 0.013309085764325592\n"
     ]
    }
   ],
   "source": [
    "x_values = north_df[\"Lat\"]\n",
    "y_values = north_df[\"Humidity\"]\n",
    "(slope, intercept, rvalue, pvalue, stderr) = linregress(x_values, y_values)\n",
    "regress_values = x_values * slope + intercept\n",
    "line_eq = \"y = \" + str(round(slope,2)) + \"x + \" + str(round(intercept,2))\n",
    "print(f\"The equation is: {line_eq}\")\n",
    "print(f\"The r-squared is: {rvalue**2}\")"
   ]
  },
  {
   "cell_type": "markdown",
   "metadata": {},
   "source": [
    "####  Southern Hemisphere - Humidity (%) vs. Latitude Linear Regression"
   ]
  },
  {
   "cell_type": "code",
   "execution_count": 45,
   "metadata": {},
   "outputs": [
    {
     "name": "stdout",
     "output_type": "stream",
     "text": [
      "The equation is: y = -0.1x + 71.31\n",
      "The r-squared is: 0.004371977158314947\n"
     ]
    }
   ],
   "source": [
    "x_values = south_df[\"Lat\"]\n",
    "y_values = south_df[\"Humidity\"]\n",
    "(slope, intercept, rvalue, pvalue, stderr) = linregress(x_values, y_values)\n",
    "regress_values = x_values * slope + intercept\n",
    "line_eq = \"y = \" + str(round(slope,2)) + \"x + \" + str(round(intercept,2))\n",
    "print(f\"The equation is: {line_eq}\")\n",
    "print(f\"The r-squared is: {rvalue**2}\")"
   ]
  },
  {
   "cell_type": "markdown",
   "metadata": {},
   "source": [
    "### Analysis\n",
    "There is little to no correlation between latitude and humidity in either hemisphere."
   ]
  },
  {
   "cell_type": "markdown",
   "metadata": {},
   "source": [
    "####  Northern Hemisphere - Cloudiness (%) vs. Latitude Linear Regression"
   ]
  },
  {
   "cell_type": "code",
   "execution_count": 47,
   "metadata": {},
   "outputs": [
    {
     "name": "stdout",
     "output_type": "stream",
     "text": [
      "The equation is: y = 0.09x + 49.95\n",
      "The r-squared is: 0.0020397998978499148\n"
     ]
    }
   ],
   "source": [
    "x_values = north_df[\"Lat\"]\n",
    "y_values = north_df[\"Cloudiness\"]\n",
    "(slope, intercept, rvalue, pvalue, stderr) = linregress(x_values, y_values)\n",
    "regress_values = x_values * slope + intercept\n",
    "line_eq = \"y = \" + str(round(slope,2)) + \"x + \" + str(round(intercept,2))\n",
    "print(f\"The equation is: {line_eq}\")\n",
    "print(f\"The r-squared is: {rvalue**2}\")"
   ]
  },
  {
   "cell_type": "markdown",
   "metadata": {},
   "source": [
    "####  Southern Hemisphere - Cloudiness (%) vs. Latitude Linear Regression"
   ]
  },
  {
   "cell_type": "code",
   "execution_count": 46,
   "metadata": {},
   "outputs": [
    {
     "name": "stdout",
     "output_type": "stream",
     "text": [
      "The equation is: y = 0.7x + 59.32\n",
      "The r-squared is: 0.04734228214607412\n"
     ]
    }
   ],
   "source": [
    "x_values = south_df[\"Lat\"]\n",
    "y_values = south_df[\"Cloudiness\"]\n",
    "(slope, intercept, rvalue, pvalue, stderr) = linregress(x_values, y_values)\n",
    "regress_values = x_values * slope + intercept\n",
    "line_eq = \"y = \" + str(round(slope,2)) + \"x + \" + str(round(intercept,2))\n",
    "print(f\"The equation is: {line_eq}\")\n",
    "print(f\"The r-squared is: {rvalue**2}\")"
   ]
  },
  {
   "cell_type": "markdown",
   "metadata": {},
   "source": [
    "### Analysis\n",
    "There is little to no correlation between latitude and cloudiness in either hemisphere."
   ]
  },
  {
   "cell_type": "markdown",
   "metadata": {},
   "source": [
    "####  Northern Hemisphere - Wind Speed (mph) vs. Latitude Linear Regression"
   ]
  },
  {
   "cell_type": "code",
   "execution_count": 48,
   "metadata": {},
   "outputs": [
    {
     "name": "stdout",
     "output_type": "stream",
     "text": [
      "The equation is: y = 0.01x + 3.15\n",
      "The r-squared is: 0.010962355812993756\n"
     ]
    }
   ],
   "source": [
    "x_values = north_df[\"Lat\"]\n",
    "y_values = north_df[\"Wind Speed\"]\n",
    "(slope, intercept, rvalue, pvalue, stderr) = linregress(x_values, y_values)\n",
    "regress_values = x_values * slope + intercept\n",
    "line_eq = \"y = \" + str(round(slope,2)) + \"x + \" + str(round(intercept,2))\n",
    "print(f\"The equation is: {line_eq}\")\n",
    "print(f\"The r-squared is: {rvalue**2}\")"
   ]
  },
  {
   "cell_type": "markdown",
   "metadata": {},
   "source": [
    "####  Southern Hemisphere - Wind Speed (mph) vs. Latitude Linear Regression"
   ]
  },
  {
   "cell_type": "code",
   "execution_count": 49,
   "metadata": {},
   "outputs": [
    {
     "name": "stdout",
     "output_type": "stream",
     "text": [
      "The equation is: y = -0.05x + 1.82\n",
      "The r-squared is: 0.09131758195018087\n"
     ]
    }
   ],
   "source": [
    "x_values = south_df[\"Lat\"]\n",
    "y_values = south_df[\"Wind Speed\"]\n",
    "(slope, intercept, rvalue, pvalue, stderr) = linregress(x_values, y_values)\n",
    "regress_values = x_values * slope + intercept\n",
    "line_eq = \"y = \" + str(round(slope,2)) + \"x + \" + str(round(intercept,2))\n",
    "print(f\"The equation is: {line_eq}\")\n",
    "print(f\"The r-squared is: {rvalue**2}\")"
   ]
  },
  {
   "cell_type": "markdown",
   "metadata": {},
   "source": [
    "### Analysis\n",
    "There is little to no correlation between latitude and wind speed in either hemisphere."
   ]
  },
  {
   "cell_type": "code",
   "execution_count": null,
   "metadata": {},
   "outputs": [],
   "source": []
  }
 ],
 "metadata": {
  "anaconda-cloud": {},
  "kernel_info": {
   "name": "python3"
  },
  "kernelspec": {
   "display_name": "Python 3",
   "language": "python",
   "name": "python3"
  },
  "language_info": {
   "codemirror_mode": {
    "name": "ipython",
    "version": 3
   },
   "file_extension": ".py",
   "mimetype": "text/x-python",
   "name": "python",
   "nbconvert_exporter": "python",
   "pygments_lexer": "ipython3",
   "version": "3.6.10"
  },
  "latex_envs": {
   "LaTeX_envs_menu_present": true,
   "autoclose": false,
   "autocomplete": true,
   "bibliofile": "biblio.bib",
   "cite_by": "apalike",
   "current_citInitial": 1,
   "eqLabelWithNumbers": true,
   "eqNumInitial": 1,
   "hotkeys": {
    "equation": "Ctrl-E",
    "itemize": "Ctrl-I"
   },
   "labels_anchors": false,
   "latex_user_defs": false,
   "report_style_numbering": false,
   "user_envs_cfg": false
  },
  "nteract": {
   "version": "0.12.3"
  }
 },
 "nbformat": 4,
 "nbformat_minor": 2
}
