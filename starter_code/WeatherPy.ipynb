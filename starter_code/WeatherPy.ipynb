{
 "cells": [
  {
   "cell_type": "markdown",
   "metadata": {},
   "source": [
    "# WeatherPy\n",
    "----\n",
    "\n",
    "#### Note\n",
    "* Instructions have been included for each segment. You do not have to follow them exactly, but they are included to help you think through the steps."
   ]
  },
  {
   "cell_type": "code",
   "execution_count": null,
   "metadata": {
    "scrolled": true
   },
   "outputs": [],
   "source": [
    "# Dependencies\n",
    "import requests\n",
    "import json\n",
    "import pandas as pd\n",
    "import random\n",
    "from citipy import citipy\n",
    "from random import uniform\n",
    "import matplotlib.pyplot as plt\n",
    "from api_keys import weather_api_key\n",
    "from scipy.stats import linregress"
   ]
  },
  {
   "cell_type": "markdown",
   "metadata": {},
   "source": [
    "## Generate Cities List"
   ]
  },
  {
   "cell_type": "code",
   "execution_count": 8,
   "metadata": {},
   "outputs": [],
   "source": [
    "cities = []\n",
    "while len(cities)< 550:\n",
    "    x = uniform(-180,180)\n",
    "    y = uniform(-90, 90)\n",
    "    city_code = citipy.nearest_city(x, y)\n",
    "    city_name = city_code.city_name\n",
    "    if city_name not in cities:\n",
    "        cities.append(city_name)"
   ]
  },
  {
   "cell_type": "code",
   "execution_count": null,
   "metadata": {},
   "outputs": [],
   "source": [
    "len(cities)"
   ]
  },
  {
   "cell_type": "markdown",
   "metadata": {},
   "source": [
    "### Perform API Calls\n",
    "* Perform a weather check on each city using a series of successive API calls.\n",
    "* Include a print log of each city as it'sbeing processed (with the city number and city name).\n"
   ]
  },
  {
   "cell_type": "code",
   "execution_count": null,
   "metadata": {},
   "outputs": [],
   "source": []
  },
  {
   "cell_type": "code",
   "execution_count": 9,
   "metadata": {
    "scrolled": true
   },
   "outputs": [
    {
     "name": "stdout",
     "output_type": "stream",
     "text": [
      "1/550: Generating data for uberaba\n",
      "2/550: Generating data for torbay\n",
      "3/550: Generating data for ushuaia\n",
      "4/550: Generating data for qaanaaq\n",
      "5/550: Generating data for port alfred\n",
      "6/550: Generating data for annecy-le-vieux\n",
      "7/550: Data not found for barentsburg\n",
      "8/550: Generating data for albany\n",
      "9/550: Data not found for illoqqortoormiut\n",
      "10/550: Generating data for longyearbyen\n",
      "11/550: Data not found for belushya guba\n",
      "12/550: Generating data for kalmunai\n",
      "13/550: Generating data for upernavik\n",
      "14/550: Generating data for lebu\n",
      "15/550: Generating data for mogadishu\n",
      "16/550: Generating data for east london\n",
      "17/550: Generating data for jamestown\n",
      "18/550: Generating data for hermanus\n",
      "19/550: Generating data for gaoual\n",
      "20/550: Generating data for atar\n",
      "21/550: Data not found for taolanaro\n",
      "22/550: Generating data for gamba\n",
      "23/550: Generating data for bredasdorp\n",
      "24/550: Generating data for malakal\n",
      "25/550: Generating data for yasnyy\n",
      "26/550: Generating data for port elizabeth\n",
      "27/550: Generating data for dikson\n",
      "28/550: Generating data for roald\n",
      "29/550: Generating data for kousseri\n",
      "30/550: Generating data for talcahuano\n",
      "31/550: Generating data for burevestnik\n",
      "32/550: Generating data for turukhansk\n",
      "33/550: Generating data for sisimiut\n",
      "34/550: Generating data for busselton\n",
      "35/550: Generating data for dondo\n",
      "36/550: Generating data for cecina\n",
      "37/550: Generating data for prieska\n",
      "38/550: Generating data for orcopampa\n",
      "39/550: Generating data for santa maria\n",
      "40/550: Generating data for cape town\n",
      "41/550: Generating data for mehamn\n",
      "42/550: Generating data for bagan\n",
      "43/550: Generating data for pimenta bueno\n",
      "44/550: Generating data for vilkaviskis\n",
      "45/550: Generating data for deoranian\n",
      "46/550: Generating data for dingle\n",
      "47/550: Generating data for hukeri\n",
      "48/550: Generating data for corinto\n",
      "49/550: Generating data for high rock\n",
      "50/550: Generating data for farafangana\n",
      "51/550: Generating data for arraial do cabo\n",
      "52/550: Generating data for geraldton\n",
      "53/550: Generating data for husavik\n",
      "54/550: Generating data for salalah\n",
      "55/550: Generating data for antalaha\n",
      "56/550: Generating data for ponta do sol\n",
      "57/550: Generating data for nanortalik\n",
      "58/550: Generating data for ribeira grande\n",
      "59/550: Generating data for saint george\n",
      "60/550: Generating data for maun\n",
      "61/550: Generating data for nueve de julio\n",
      "62/550: Generating data for saldanha\n",
      "63/550: Generating data for mashhad\n",
      "64/550: Generating data for punta arenas\n",
      "65/550: Generating data for taltal\n",
      "66/550: Data not found for attawapiskat\n",
      "67/550: Generating data for amapa\n",
      "68/550: Generating data for mar del plata\n",
      "69/550: Data not found for karaul\n",
      "70/550: Data not found for miranorte\n",
      "71/550: Generating data for soavinandriana\n",
      "72/550: Generating data for camacha\n",
      "73/550: Generating data for galle\n",
      "74/550: Generating data for hofn\n",
      "75/550: Generating data for sao filipe\n",
      "76/550: Generating data for pangnirtung\n",
      "77/550: Generating data for schagen\n",
      "78/550: Generating data for caravelas\n",
      "79/550: Generating data for los llanos de aridane\n",
      "80/550: Generating data for gravdal\n",
      "81/550: Data not found for amderma\n",
      "82/550: Generating data for segou\n",
      "83/550: Generating data for olinda\n",
      "84/550: Generating data for berlevag\n",
      "85/550: Generating data for saint-augustin\n",
      "86/550: Generating data for chuy\n",
      "87/550: Generating data for hithadhoo\n",
      "88/550: Generating data for bengkulu\n",
      "89/550: Generating data for cidreira\n",
      "90/550: Generating data for barcelos\n",
      "91/550: Generating data for kruisfontein\n",
      "92/550: Data not found for himora\n",
      "93/550: Generating data for souillac\n",
      "94/550: Generating data for camocim\n",
      "95/550: Generating data for brae\n",
      "96/550: Generating data for bocas del toro\n",
      "97/550: Generating data for georgetown\n",
      "98/550: Generating data for yanam\n",
      "99/550: Generating data for mubi\n",
      "100/550: Generating data for ancud\n",
      "101/550: Generating data for narsaq\n",
      "102/550: Generating data for luderitz\n",
      "103/550: Generating data for krasnyy kholm\n",
      "104/550: Generating data for tazovskiy\n",
      "105/550: Generating data for la plaine\n",
      "106/550: Generating data for kizema\n",
      "107/550: Data not found for bolungarvik\n",
      "108/550: Generating data for trelew\n",
      "109/550: Generating data for puerto del rosario\n",
      "110/550: Generating data for montego bay\n",
      "111/550: Generating data for victoria\n",
      "112/550: Generating data for finnentrop\n",
      "113/550: Generating data for murashi\n",
      "114/550: Generating data for touros\n",
      "115/550: Generating data for marsabit\n",
      "116/550: Generating data for sisamia\n",
      "117/550: Generating data for sao mateus\n",
      "118/550: Generating data for chimore\n",
      "119/550: Generating data for trinidad\n",
      "120/550: Generating data for tasiilaq\n",
      "121/550: Generating data for andenes\n",
      "122/550: Generating data for vacaria\n",
      "123/550: Generating data for klaksvik\n",
      "124/550: Generating data for castro\n",
      "125/550: Generating data for gat\n",
      "126/550: Generating data for shelburne\n",
      "127/550: Generating data for san cristobal\n",
      "128/550: Generating data for puerto quijarro\n",
      "129/550: Generating data for crixas\n",
      "130/550: Data not found for kegayli\n",
      "131/550: Data not found for aflu\n",
      "132/550: Generating data for beroroha\n",
      "133/550: Generating data for douglas\n",
      "134/550: Generating data for zaysan\n",
      "135/550: Generating data for vestmannaeyjar\n",
      "136/550: Generating data for madona\n",
      "137/550: Generating data for nurpur\n",
      "138/550: Generating data for inirida\n",
      "139/550: Generating data for zhezkazgan\n",
      "140/550: Generating data for pisco\n",
      "141/550: Generating data for adwa\n",
      "142/550: Generating data for zhitnevo\n",
      "143/550: Generating data for santa isabel do rio negro\n",
      "144/550: Generating data for peniche\n",
      "145/550: Generating data for codrington\n",
      "146/550: Generating data for svetlogorsk\n",
      "147/550: Generating data for richards bay\n",
      "148/550: Generating data for ilulissat\n",
      "149/550: Generating data for lysva\n",
      "150/550: Generating data for grindavik\n",
      "151/550: Generating data for bozuyuk\n",
      "152/550: Generating data for namibe\n",
      "153/550: Generating data for harper\n",
      "154/550: Generating data for maniago\n",
      "155/550: Generating data for sovetskiy\n",
      "156/550: Generating data for saint-philippe\n",
      "157/550: Data not found for grand river south east\n",
      "158/550: Generating data for westport\n",
      "159/550: Generating data for povenets\n",
      "160/550: Generating data for porto walter\n",
      "161/550: Generating data for bonavista\n",
      "162/550: Generating data for masyaf\n",
      "163/550: Generating data for san antonio\n",
      "164/550: Generating data for inongo\n",
      "165/550: Generating data for mombaca\n",
      "166/550: Generating data for mangrol\n",
      "167/550: Generating data for punta gorda\n",
      "168/550: Generating data for coihaique\n",
      "169/550: Data not found for karakendzha\n",
      "170/550: Generating data for djambala\n",
      "171/550: Generating data for vicosa\n",
      "172/550: Generating data for kirkwall\n",
      "173/550: Generating data for kaniama\n",
      "174/550: Generating data for dakar\n",
      "175/550: Generating data for cravo norte\n",
      "176/550: Generating data for tyup\n",
      "177/550: Generating data for axim\n",
      "178/550: Generating data for clyde river\n",
      "179/550: Generating data for bento goncalves\n",
      "180/550: Data not found for astipalaia\n",
      "181/550: Generating data for vardo\n",
      "182/550: Generating data for pemba\n",
      "183/550: Generating data for turayf\n",
      "184/550: Data not found for marcona\n",
      "185/550: Generating data for sault sainte marie\n",
      "186/550: Generating data for aswan\n",
      "187/550: Generating data for chak azam sahu\n",
      "188/550: Generating data for la tuque\n",
      "189/550: Generating data for santiago\n",
      "190/550: Generating data for luanda\n",
      "191/550: Generating data for kedougou\n",
      "192/550: Generating data for fomboni\n",
      "193/550: Generating data for bahia blanca\n",
      "194/550: Generating data for rumphi\n",
      "195/550: Generating data for iquitos\n",
      "196/550: Generating data for kautokeino\n",
      "197/550: Generating data for hambantota\n",
      "198/550: Generating data for serenje\n",
      "199/550: Generating data for cheremshan\n",
      "200/550: Generating data for bilma\n",
      "201/550: Generating data for kambove\n",
      "202/550: Data not found for longlac\n",
      "203/550: Generating data for zasosna\n",
      "204/550: Generating data for aracoiaba\n",
      "205/550: Generating data for harnosand\n",
      "206/550: Data not found for louisbourg\n",
      "207/550: Generating data for lagoa\n",
      "208/550: Generating data for brufut\n",
      "209/550: Generating data for channel-port aux basques\n",
      "210/550: Data not found for dolbeau\n",
      "211/550: Generating data for grakhovo\n",
      "212/550: Generating data for mahebourg\n",
      "213/550: Generating data for neringa\n",
      "214/550: Generating data for leo\n",
      "215/550: Generating data for paamiut\n",
      "216/550: Generating data for palenque\n"
     ]
    },
    {
     "name": "stdout",
     "output_type": "stream",
     "text": [
      "217/550: Generating data for nuevitas\n",
      "218/550: Generating data for vagur\n",
      "219/550: Generating data for takoradi\n",
      "220/550: Generating data for salinas\n",
      "221/550: Generating data for xai-xai\n",
      "222/550: Generating data for cap malheureux\n",
      "223/550: Data not found for spetsai\n",
      "224/550: Generating data for aasiaat\n",
      "225/550: Generating data for stralsund\n",
      "226/550: Generating data for tsybli\n",
      "227/550: Generating data for praia\n",
      "228/550: Generating data for marawi\n",
      "229/550: Generating data for boa vista\n",
      "230/550: Generating data for hualmay\n",
      "231/550: Data not found for viligili\n",
      "232/550: Generating data for baijiantan\n",
      "233/550: Generating data for tabou\n",
      "234/550: Generating data for lannion\n",
      "235/550: Generating data for jipijapa\n",
      "236/550: Generating data for presidencia roque saenz pena\n",
      "237/550: Generating data for chandbali\n",
      "238/550: Generating data for candido de abreu\n",
      "239/550: Generating data for kibala\n",
      "240/550: Generating data for joshimath\n",
      "241/550: Generating data for belmonte\n",
      "242/550: Generating data for yokadouma\n",
      "243/550: Generating data for santa cruz cabralia\n",
      "244/550: Generating data for dourados\n",
      "245/550: Generating data for verkhnetulomskiy\n",
      "246/550: Generating data for kokstad\n",
      "247/550: Generating data for grand gaube\n",
      "248/550: Generating data for itupiranga\n",
      "249/550: Generating data for uray\n",
      "250/550: Generating data for nuuk\n",
      "251/550: Generating data for torres\n",
      "252/550: Generating data for mazagao\n",
      "253/550: Data not found for tsihombe\n",
      "254/550: Generating data for bambous virieux\n",
      "255/550: Generating data for mizdah\n",
      "256/550: Generating data for kralendijk\n",
      "257/550: Generating data for calabozo\n",
      "258/550: Generating data for joao pinheiro\n",
      "259/550: Generating data for agirish\n",
      "260/550: Generating data for praia da vitoria\n",
      "261/550: Generating data for koungou\n",
      "262/550: Generating data for kashi\n",
      "263/550: Generating data for lumeje\n",
      "264/550: Generating data for tsumeb\n",
      "265/550: Generating data for chiungutwa\n",
      "266/550: Generating data for kharp\n",
      "267/550: Generating data for rumonge\n",
      "268/550: Generating data for borgarnes\n",
      "269/550: Generating data for port blair\n",
      "270/550: Generating data for saint-pierre\n",
      "271/550: Generating data for dourbali\n",
      "272/550: Data not found for cumaribo\n",
      "273/550: Generating data for belturbet\n",
      "274/550: Generating data for vila velha\n",
      "275/550: Generating data for cuamba\n",
      "276/550: Generating data for port-gentil\n",
      "277/550: Generating data for miraflores\n",
      "278/550: Generating data for strezhevoy\n",
      "279/550: Generating data for ambovombe\n",
      "280/550: Generating data for mecca\n",
      "281/550: Generating data for bandarbeyla\n",
      "282/550: Generating data for mizan teferi\n",
      "283/550: Generating data for shemonaikha\n",
      "284/550: Generating data for althofen\n",
      "285/550: Generating data for goderich\n",
      "286/550: Data not found for bargal\n",
      "287/550: Data not found for potgietersrus\n",
      "288/550: Generating data for viedma\n",
      "289/550: Generating data for ropczyce\n",
      "290/550: Generating data for santa cruz\n",
      "291/550: Generating data for aranda de duero\n",
      "292/550: Generating data for coquimbo\n",
      "293/550: Data not found for tawnat\n",
      "294/550: Generating data for kavaratti\n",
      "295/550: Generating data for leh\n",
      "296/550: Generating data for nusaybin\n",
      "297/550: Data not found for sorvag\n",
      "298/550: Generating data for iqaluit\n",
      "299/550: Generating data for uvinza\n",
      "300/550: Generating data for kawambwa\n",
      "301/550: Generating data for merritt island\n",
      "302/550: Generating data for guane\n",
      "303/550: Generating data for japura\n",
      "304/550: Generating data for luba\n",
      "305/550: Generating data for kibaha\n",
      "306/550: Generating data for cururupu\n",
      "307/550: Data not found for mutsamudu\n",
      "308/550: Generating data for bani\n",
      "309/550: Generating data for gadwal\n",
      "310/550: Data not found for kazalinsk\n",
      "311/550: Generating data for papagaios\n",
      "312/550: Generating data for eidsvag\n",
      "313/550: Generating data for kyabe\n",
      "314/550: Generating data for shakhtinsk\n",
      "315/550: Generating data for omboue\n",
      "316/550: Generating data for borba\n",
      "317/550: Data not found for buqayq\n",
      "318/550: Generating data for ndele\n",
      "319/550: Generating data for snasa\n",
      "320/550: Generating data for teshie\n",
      "321/550: Generating data for mitsamiouli\n",
      "322/550: Generating data for yenagoa\n",
      "323/550: Generating data for hata\n",
      "324/550: Generating data for sendafa\n",
      "325/550: Data not found for agva\n",
      "326/550: Generating data for muzaffarabad\n",
      "327/550: Generating data for betare oya\n",
      "328/550: Generating data for jacqueville\n",
      "329/550: Data not found for tumannyy\n",
      "330/550: Generating data for maxixe\n",
      "331/550: Generating data for melilla\n",
      "332/550: Generating data for muisne\n",
      "333/550: Generating data for nadvoitsy\n",
      "334/550: Generating data for korla\n",
      "335/550: Generating data for bethlehem\n",
      "336/550: Generating data for shubarshi\n",
      "337/550: Generating data for thompson\n",
      "338/550: Generating data for kandi\n",
      "339/550: Generating data for imbituba\n",
      "340/550: Generating data for iguape\n",
      "341/550: Generating data for pio ix\n",
      "342/550: Generating data for muravlenko\n",
      "343/550: Generating data for komsomolskiy\n",
      "344/550: Generating data for oeiras\n",
      "345/550: Generating data for bure\n",
      "346/550: Generating data for orocue\n",
      "347/550: Data not found for bolshegrivskoye\n",
      "348/550: Generating data for podosinovets\n",
      "349/550: Generating data for koygorodok\n",
      "350/550: Generating data for havelock\n",
      "351/550: Generating data for corning\n",
      "352/550: Generating data for ugoofaaru\n",
      "353/550: Generating data for charlottetown\n",
      "354/550: Generating data for otavi\n",
      "355/550: Data not found for scottsburgh\n",
      "356/550: Generating data for gornopravdinsk\n",
      "357/550: Generating data for hamilton\n",
      "358/550: Data not found for mullaitivu\n",
      "359/550: Generating data for bull savanna\n",
      "360/550: Generating data for chabahar\n",
      "361/550: Generating data for tugulym\n",
      "362/550: Generating data for melk\n",
      "363/550: Data not found for preobrazhenskaya\n",
      "364/550: Generating data for saint-joseph\n",
      "365/550: Generating data for la rioja\n",
      "366/550: Generating data for adrar\n",
      "367/550: Generating data for hobyo\n",
      "368/550: Generating data for chapais\n",
      "369/550: Generating data for mamallapuram\n",
      "370/550: Generating data for necochea\n",
      "371/550: Generating data for dom pedrito\n",
      "372/550: Generating data for urucurituba\n",
      "373/550: Generating data for marystown\n",
      "374/550: Generating data for san carlos de bariloche\n",
      "375/550: Generating data for rusape\n",
      "376/550: Generating data for sur\n",
      "377/550: Generating data for urumqi\n",
      "378/550: Generating data for agadez\n",
      "379/550: Generating data for ambanja\n",
      "380/550: Generating data for haapsalu\n",
      "381/550: Generating data for yar-sale\n",
      "382/550: Generating data for koroni\n",
      "383/550: Generating data for garowe\n",
      "384/550: Generating data for lodja\n",
      "385/550: Generating data for lakhimpur\n",
      "386/550: Generating data for alepe\n",
      "387/550: Generating data for san clemente\n",
      "388/550: Generating data for rawson\n",
      "389/550: Generating data for vestmanna\n",
      "390/550: Generating data for oranjemund\n",
      "391/550: Generating data for darab\n",
      "392/550: Generating data for serik\n",
      "393/550: Generating data for krutinka\n",
      "394/550: Generating data for acarau\n",
      "395/550: Generating data for oksfjord\n",
      "396/550: Generating data for santa cruz de la palma\n",
      "397/550: Generating data for sioux lookout\n",
      "398/550: Generating data for saint anthony\n",
      "399/550: Generating data for manono\n",
      "400/550: Generating data for hudiksvall\n",
      "401/550: Generating data for nouadhibou\n",
      "402/550: Generating data for bubaque\n",
      "403/550: Generating data for xuddur\n",
      "404/550: Generating data for general roca\n",
      "405/550: Generating data for quirinopolis\n",
      "406/550: Generating data for lesnoy\n",
      "407/550: Generating data for puerto madryn\n",
      "408/550: Generating data for carbonia\n",
      "409/550: Generating data for jalu\n",
      "410/550: Generating data for togur\n",
      "411/550: Generating data for kjollefjord\n",
      "412/550: Generating data for tromso\n",
      "413/550: Generating data for wetzikon\n",
      "414/550: Generating data for voyvozh\n",
      "415/550: Generating data for snezhnogorsk\n",
      "416/550: Generating data for trojes\n",
      "417/550: Generating data for cayenne\n",
      "418/550: Generating data for araouane\n",
      "419/550: Generating data for derzhavinsk\n",
      "420/550: Generating data for trairi\n",
      "421/550: Generating data for kwekwe\n",
      "422/550: Data not found for formoso do araguaia\n",
      "423/550: Generating data for gediz\n",
      "424/550: Data not found for grimari\n",
      "425/550: Generating data for sao joao da barra\n",
      "426/550: Generating data for rundu\n",
      "427/550: Generating data for merrill\n",
      "428/550: Generating data for jiblah\n",
      "429/550: Generating data for olafsvik\n",
      "430/550: Generating data for beisfjord\n"
     ]
    },
    {
     "name": "stdout",
     "output_type": "stream",
     "text": [
      "431/550: Generating data for birjand\n",
      "432/550: Generating data for suruc\n",
      "433/550: Generating data for winder\n",
      "434/550: Generating data for sorland\n",
      "435/550: Generating data for aravankadu\n",
      "436/550: Generating data for ambilobe\n",
      "437/550: Generating data for sabha\n",
      "438/550: Generating data for cehegin\n",
      "439/550: Generating data for mach\n",
      "440/550: Generating data for torez\n",
      "441/550: Generating data for talnakh\n",
      "442/550: Generating data for mealhada\n",
      "443/550: Generating data for lodwar\n",
      "444/550: Generating data for tabuk\n",
      "445/550: Generating data for itarema\n",
      "446/550: Generating data for groton\n",
      "447/550: Generating data for port-cartier\n",
      "448/550: Generating data for manta\n",
      "449/550: Generating data for kruszwica\n",
      "450/550: Generating data for elizabeth city\n",
      "451/550: Generating data for ponta delgada\n",
      "452/550: Generating data for nortelandia\n",
      "453/550: Generating data for mao\n",
      "454/550: Generating data for laguna\n",
      "455/550: Generating data for kaspiysk\n",
      "456/550: Generating data for boda\n",
      "457/550: Generating data for paramirim\n",
      "458/550: Generating data for kudahuvadhoo\n",
      "459/550: Generating data for mantua\n",
      "460/550: Generating data for cunha\n",
      "461/550: Generating data for sinnamary\n",
      "462/550: Generating data for cockburn town\n",
      "463/550: Generating data for bat khela\n",
      "464/550: Generating data for krasnoselkup\n",
      "465/550: Generating data for gebre guracha\n",
      "466/550: Generating data for ogdensburg\n",
      "467/550: Generating data for edd\n",
      "468/550: Generating data for trondheim\n",
      "469/550: Generating data for chimbote\n",
      "470/550: Generating data for mandera\n",
      "471/550: Generating data for tonantins\n",
      "472/550: Generating data for raudeberg\n",
      "473/550: Generating data for saint-georges\n",
      "474/550: Generating data for cervo\n",
      "475/550: Generating data for ferme-neuve\n",
      "476/550: Generating data for ullapool\n",
      "477/550: Generating data for mahajanga\n",
      "478/550: Generating data for palafrugell\n",
      "479/550: Data not found for skagastrond\n",
      "480/550: Generating data for matagalpa\n",
      "481/550: Generating data for farah\n",
      "482/550: Data not found for bajo baudo\n",
      "483/550: Generating data for ust-tsilma\n",
      "484/550: Generating data for inndyr\n",
      "485/550: Generating data for buraydah\n",
      "486/550: Generating data for thunder bay\n",
      "487/550: Generating data for gamovo\n",
      "488/550: Generating data for penukonda\n",
      "489/550: Generating data for trincomalee\n",
      "490/550: Generating data for leshukonskoye\n",
      "491/550: Generating data for thinadhoo\n",
      "492/550: Generating data for qaqortoq\n",
      "493/550: Generating data for nieuwpoort\n",
      "494/550: Generating data for douentza\n",
      "495/550: Generating data for antonina\n",
      "496/550: Generating data for aguimes\n",
      "497/550: Generating data for biskamzha\n",
      "498/550: Generating data for troitskoye\n",
      "499/550: Generating data for kattivakkam\n",
      "500/550: Generating data for kalevala\n",
      "501/550: Generating data for hearst\n",
      "502/550: Generating data for alirajpur\n",
      "503/550: Generating data for covington\n",
      "504/550: Generating data for cape canaveral\n",
      "505/550: Generating data for salekhard\n",
      "506/550: Generating data for alexandroupoli\n",
      "507/550: Data not found for mrirt\n",
      "508/550: Generating data for mamontovo\n",
      "509/550: Generating data for henties bay\n",
      "510/550: Generating data for mana\n",
      "511/550: Generating data for ostrovnoy\n",
      "512/550: Generating data for nikel\n",
      "513/550: Generating data for hwange\n",
      "514/550: Generating data for lixourion\n",
      "515/550: Generating data for havoysund\n",
      "516/550: Generating data for carutapera\n",
      "517/550: Generating data for berezovka\n",
      "518/550: Generating data for neyshabur\n",
      "519/550: Generating data for ilhabela\n",
      "520/550: Generating data for zambezi\n",
      "521/550: Generating data for molteno\n",
      "522/550: Generating data for sikonge\n",
      "523/550: Generating data for tiptur\n",
      "524/550: Generating data for entre rios\n",
      "525/550: Generating data for bilopillya\n",
      "526/550: Generating data for yurga\n",
      "527/550: Generating data for najran\n",
      "528/550: Generating data for masvingo\n",
      "529/550: Generating data for moussoro\n",
      "530/550: Generating data for sirsa\n",
      "531/550: Generating data for abu dhabi\n",
      "532/550: Generating data for urengoy\n",
      "533/550: Generating data for podor\n",
      "534/550: Generating data for pedernales\n",
      "535/550: Generating data for rio de janeiro\n",
      "536/550: Generating data for manzil salim\n",
      "537/550: Generating data for taoudenni\n",
      "538/550: Generating data for bereda\n",
      "539/550: Generating data for batticaloa\n",
      "540/550: Generating data for arona\n",
      "541/550: Generating data for vallenar\n",
      "542/550: Generating data for guanica\n",
      "543/550: Generating data for skibbereen\n",
      "544/550: Data not found for skalistyy\n",
      "545/550: Generating data for arlit\n",
      "546/550: Generating data for staryy saltiv\n",
      "547/550: Generating data for braganca\n",
      "548/550: Generating data for luangwa\n",
      "549/550: Generating data for brigantine\n",
      "550/550: Generating data for george town\n"
     ]
    }
   ],
   "source": [
    "# Save config information.\n",
    "url = \"http://api.openweathermap.org/data/2.5/weather?\"\n",
    "units = \"metric\"\n",
    "\n",
    "# Build partial query URL\n",
    "query_url = f\"{url}appid={weather_api_key}&units={units}&q=\"\n",
    "\n",
    "# setting up empty lists to create DF\n",
    "lat = []\n",
    "lng = []\n",
    "temp = []\n",
    "humidity = []\n",
    "cloudiness = []\n",
    "wind_speed = []\n",
    "country = []\n",
    "date = []\n",
    "df_cities=[]\n",
    "\n",
    "for index, name in enumerate(cities):\n",
    "    try:\n",
    "        response = requests.get(query_url + name).json()\n",
    "        df_cities.append(response[\"name\"])\n",
    "        lat.append(response['coord']['lat'])\n",
    "        lng.append(response['coord']['lon'])\n",
    "        temp.append(response['main']['temp_max'])\n",
    "        humidity.append(response['main']['humidity'])\n",
    "        cloudiness.append(response['clouds']['all'])\n",
    "        wind_speed.append(response['wind']['speed'])\n",
    "        country.append(response['sys']['country'])\n",
    "        date.append(response['dt'])\n",
    "        print(f\"{index+1}/{len(cities)}: Generating data for {name}\")\n",
    "    except:\n",
    "        print(f\"{index+1}/{len(cities)}: Data not found for {name}\")"
   ]
  },
  {
   "cell_type": "markdown",
   "metadata": {},
   "source": [
    "### Convert Raw Data to DataFrame\n",
    "* Export the city data into a .csv.\n",
    "* Display the DataFrame"
   ]
  },
  {
   "cell_type": "code",
   "execution_count": 10,
   "metadata": {
    "scrolled": true
   },
   "outputs": [
    {
     "data": {
      "text/html": [
       "<div>\n",
       "<style scoped>\n",
       "    .dataframe tbody tr th:only-of-type {\n",
       "        vertical-align: middle;\n",
       "    }\n",
       "\n",
       "    .dataframe tbody tr th {\n",
       "        vertical-align: top;\n",
       "    }\n",
       "\n",
       "    .dataframe thead th {\n",
       "        text-align: right;\n",
       "    }\n",
       "</style>\n",
       "<table border=\"1\" class=\"dataframe\">\n",
       "  <thead>\n",
       "    <tr style=\"text-align: right;\">\n",
       "      <th></th>\n",
       "      <th>City</th>\n",
       "      <th>Lat</th>\n",
       "      <th>Lng</th>\n",
       "      <th>Max temp</th>\n",
       "      <th>Humidity</th>\n",
       "      <th>Cloudiness</th>\n",
       "      <th>Wind Speed</th>\n",
       "      <th>Country</th>\n",
       "      <th>Date</th>\n",
       "    </tr>\n",
       "  </thead>\n",
       "  <tbody>\n",
       "    <tr>\n",
       "      <th>0</th>\n",
       "      <td>Uberaba</td>\n",
       "      <td>-19.75</td>\n",
       "      <td>-47.93</td>\n",
       "      <td>27.26</td>\n",
       "      <td>28</td>\n",
       "      <td>0</td>\n",
       "      <td>4.18</td>\n",
       "      <td>BR</td>\n",
       "      <td>1601600103</td>\n",
       "    </tr>\n",
       "    <tr>\n",
       "      <th>1</th>\n",
       "      <td>Torbay</td>\n",
       "      <td>47.67</td>\n",
       "      <td>-52.73</td>\n",
       "      <td>16.11</td>\n",
       "      <td>100</td>\n",
       "      <td>90</td>\n",
       "      <td>6.70</td>\n",
       "      <td>CA</td>\n",
       "      <td>1601600161</td>\n",
       "    </tr>\n",
       "    <tr>\n",
       "      <th>2</th>\n",
       "      <td>Ushuaia</td>\n",
       "      <td>-54.80</td>\n",
       "      <td>-68.30</td>\n",
       "      <td>-1.00</td>\n",
       "      <td>92</td>\n",
       "      <td>75</td>\n",
       "      <td>9.30</td>\n",
       "      <td>AR</td>\n",
       "      <td>1601600088</td>\n",
       "    </tr>\n",
       "    <tr>\n",
       "      <th>3</th>\n",
       "      <td>Qaanaaq</td>\n",
       "      <td>77.48</td>\n",
       "      <td>-69.36</td>\n",
       "      <td>-9.85</td>\n",
       "      <td>79</td>\n",
       "      <td>82</td>\n",
       "      <td>2.24</td>\n",
       "      <td>GL</td>\n",
       "      <td>1601600143</td>\n",
       "    </tr>\n",
       "    <tr>\n",
       "      <th>4</th>\n",
       "      <td>Port Alfred</td>\n",
       "      <td>-33.59</td>\n",
       "      <td>26.89</td>\n",
       "      <td>14.30</td>\n",
       "      <td>71</td>\n",
       "      <td>97</td>\n",
       "      <td>9.08</td>\n",
       "      <td>ZA</td>\n",
       "      <td>1601600138</td>\n",
       "    </tr>\n",
       "    <tr>\n",
       "      <th>5</th>\n",
       "      <td>Annecy-le-Vieux</td>\n",
       "      <td>45.92</td>\n",
       "      <td>6.14</td>\n",
       "      <td>11.00</td>\n",
       "      <td>100</td>\n",
       "      <td>100</td>\n",
       "      <td>2.10</td>\n",
       "      <td>FR</td>\n",
       "      <td>1601600294</td>\n",
       "    </tr>\n",
       "    <tr>\n",
       "      <th>6</th>\n",
       "      <td>Albany</td>\n",
       "      <td>42.60</td>\n",
       "      <td>-73.97</td>\n",
       "      <td>12.78</td>\n",
       "      <td>70</td>\n",
       "      <td>23</td>\n",
       "      <td>1.81</td>\n",
       "      <td>US</td>\n",
       "      <td>1601600137</td>\n",
       "    </tr>\n",
       "    <tr>\n",
       "      <th>7</th>\n",
       "      <td>Longyearbyen</td>\n",
       "      <td>78.22</td>\n",
       "      <td>15.64</td>\n",
       "      <td>0.00</td>\n",
       "      <td>95</td>\n",
       "      <td>75</td>\n",
       "      <td>1.00</td>\n",
       "      <td>SJ</td>\n",
       "      <td>1601600109</td>\n",
       "    </tr>\n",
       "    <tr>\n",
       "      <th>8</th>\n",
       "      <td>Kalmunai</td>\n",
       "      <td>7.42</td>\n",
       "      <td>81.82</td>\n",
       "      <td>26.07</td>\n",
       "      <td>75</td>\n",
       "      <td>100</td>\n",
       "      <td>1.50</td>\n",
       "      <td>LK</td>\n",
       "      <td>1601600297</td>\n",
       "    </tr>\n",
       "    <tr>\n",
       "      <th>9</th>\n",
       "      <td>Upernavik</td>\n",
       "      <td>72.79</td>\n",
       "      <td>-56.15</td>\n",
       "      <td>-5.43</td>\n",
       "      <td>90</td>\n",
       "      <td>0</td>\n",
       "      <td>7.42</td>\n",
       "      <td>GL</td>\n",
       "      <td>1601600138</td>\n",
       "    </tr>\n",
       "    <tr>\n",
       "      <th>10</th>\n",
       "      <td>Lebu</td>\n",
       "      <td>-37.62</td>\n",
       "      <td>-73.65</td>\n",
       "      <td>7.99</td>\n",
       "      <td>83</td>\n",
       "      <td>1</td>\n",
       "      <td>3.80</td>\n",
       "      <td>CL</td>\n",
       "      <td>1601600299</td>\n",
       "    </tr>\n",
       "    <tr>\n",
       "      <th>11</th>\n",
       "      <td>Mogadishu</td>\n",
       "      <td>2.04</td>\n",
       "      <td>45.34</td>\n",
       "      <td>25.47</td>\n",
       "      <td>85</td>\n",
       "      <td>100</td>\n",
       "      <td>6.44</td>\n",
       "      <td>SO</td>\n",
       "      <td>1601600216</td>\n",
       "    </tr>\n",
       "    <tr>\n",
       "      <th>12</th>\n",
       "      <td>East London</td>\n",
       "      <td>-33.02</td>\n",
       "      <td>27.91</td>\n",
       "      <td>14.70</td>\n",
       "      <td>73</td>\n",
       "      <td>100</td>\n",
       "      <td>7.14</td>\n",
       "      <td>ZA</td>\n",
       "      <td>1601600248</td>\n",
       "    </tr>\n",
       "    <tr>\n",
       "      <th>13</th>\n",
       "      <td>Jamestown</td>\n",
       "      <td>42.10</td>\n",
       "      <td>-79.24</td>\n",
       "      <td>9.44</td>\n",
       "      <td>87</td>\n",
       "      <td>90</td>\n",
       "      <td>2.60</td>\n",
       "      <td>US</td>\n",
       "      <td>1601599997</td>\n",
       "    </tr>\n",
       "    <tr>\n",
       "      <th>14</th>\n",
       "      <td>Hermanus</td>\n",
       "      <td>-34.42</td>\n",
       "      <td>19.23</td>\n",
       "      <td>12.78</td>\n",
       "      <td>78</td>\n",
       "      <td>40</td>\n",
       "      <td>3.13</td>\n",
       "      <td>ZA</td>\n",
       "      <td>1601600151</td>\n",
       "    </tr>\n",
       "    <tr>\n",
       "      <th>15</th>\n",
       "      <td>Gaoual</td>\n",
       "      <td>11.75</td>\n",
       "      <td>-13.20</td>\n",
       "      <td>24.09</td>\n",
       "      <td>93</td>\n",
       "      <td>100</td>\n",
       "      <td>1.73</td>\n",
       "      <td>GN</td>\n",
       "      <td>1601600301</td>\n",
       "    </tr>\n",
       "    <tr>\n",
       "      <th>16</th>\n",
       "      <td>Atar</td>\n",
       "      <td>20.52</td>\n",
       "      <td>-13.05</td>\n",
       "      <td>32.84</td>\n",
       "      <td>20</td>\n",
       "      <td>0</td>\n",
       "      <td>5.03</td>\n",
       "      <td>MR</td>\n",
       "      <td>1601600302</td>\n",
       "    </tr>\n",
       "    <tr>\n",
       "      <th>17</th>\n",
       "      <td>Gamba</td>\n",
       "      <td>-2.65</td>\n",
       "      <td>10.00</td>\n",
       "      <td>23.88</td>\n",
       "      <td>80</td>\n",
       "      <td>99</td>\n",
       "      <td>2.30</td>\n",
       "      <td>GA</td>\n",
       "      <td>1601600304</td>\n",
       "    </tr>\n",
       "    <tr>\n",
       "      <th>18</th>\n",
       "      <td>Bredasdorp</td>\n",
       "      <td>-34.53</td>\n",
       "      <td>20.04</td>\n",
       "      <td>14.00</td>\n",
       "      <td>67</td>\n",
       "      <td>100</td>\n",
       "      <td>7.70</td>\n",
       "      <td>ZA</td>\n",
       "      <td>1601600305</td>\n",
       "    </tr>\n",
       "    <tr>\n",
       "      <th>19</th>\n",
       "      <td>Malakal</td>\n",
       "      <td>9.53</td>\n",
       "      <td>31.66</td>\n",
       "      <td>22.10</td>\n",
       "      <td>86</td>\n",
       "      <td>16</td>\n",
       "      <td>0.87</td>\n",
       "      <td>SS</td>\n",
       "      <td>1601600221</td>\n",
       "    </tr>\n",
       "  </tbody>\n",
       "</table>\n",
       "</div>"
      ],
      "text/plain": [
       "               City    Lat    Lng  Max temp  Humidity  Cloudiness  Wind Speed  \\\n",
       "0           Uberaba -19.75 -47.93     27.26        28           0        4.18   \n",
       "1            Torbay  47.67 -52.73     16.11       100          90        6.70   \n",
       "2           Ushuaia -54.80 -68.30     -1.00        92          75        9.30   \n",
       "3           Qaanaaq  77.48 -69.36     -9.85        79          82        2.24   \n",
       "4       Port Alfred -33.59  26.89     14.30        71          97        9.08   \n",
       "5   Annecy-le-Vieux  45.92   6.14     11.00       100         100        2.10   \n",
       "6            Albany  42.60 -73.97     12.78        70          23        1.81   \n",
       "7      Longyearbyen  78.22  15.64      0.00        95          75        1.00   \n",
       "8          Kalmunai   7.42  81.82     26.07        75         100        1.50   \n",
       "9         Upernavik  72.79 -56.15     -5.43        90           0        7.42   \n",
       "10             Lebu -37.62 -73.65      7.99        83           1        3.80   \n",
       "11        Mogadishu   2.04  45.34     25.47        85         100        6.44   \n",
       "12      East London -33.02  27.91     14.70        73         100        7.14   \n",
       "13        Jamestown  42.10 -79.24      9.44        87          90        2.60   \n",
       "14         Hermanus -34.42  19.23     12.78        78          40        3.13   \n",
       "15           Gaoual  11.75 -13.20     24.09        93         100        1.73   \n",
       "16             Atar  20.52 -13.05     32.84        20           0        5.03   \n",
       "17            Gamba  -2.65  10.00     23.88        80          99        2.30   \n",
       "18       Bredasdorp -34.53  20.04     14.00        67         100        7.70   \n",
       "19          Malakal   9.53  31.66     22.10        86          16        0.87   \n",
       "\n",
       "   Country        Date  \n",
       "0       BR  1601600103  \n",
       "1       CA  1601600161  \n",
       "2       AR  1601600088  \n",
       "3       GL  1601600143  \n",
       "4       ZA  1601600138  \n",
       "5       FR  1601600294  \n",
       "6       US  1601600137  \n",
       "7       SJ  1601600109  \n",
       "8       LK  1601600297  \n",
       "9       GL  1601600138  \n",
       "10      CL  1601600299  \n",
       "11      SO  1601600216  \n",
       "12      ZA  1601600248  \n",
       "13      US  1601599997  \n",
       "14      ZA  1601600151  \n",
       "15      GN  1601600301  \n",
       "16      MR  1601600302  \n",
       "17      GA  1601600304  \n",
       "18      ZA  1601600305  \n",
       "19      SS  1601600221  "
      ]
     },
     "execution_count": 10,
     "metadata": {},
     "output_type": "execute_result"
    }
   ],
   "source": [
    "weather_dict = {\n",
    "    \"City\": df_cities,\n",
    "    \"Lat\": lat,\n",
    "    \"Lng\": lng,\n",
    "    \"Max temp\": temp,\n",
    "    \"Humidity\": humidity,\n",
    "    \"Cloudiness\": cloudiness,\n",
    "    \"Wind Speed\": wind_speed,\n",
    "    \"Country\": country,\n",
    "    \"Date\": date\n",
    "}\n",
    "weather_data = pd.DataFrame(weather_dict)\n",
    "weather_data.head(20)"
   ]
  },
  {
   "cell_type": "markdown",
   "metadata": {},
   "source": [
    "## Inspect the data and remove the cities where the humidity > 100%.\n",
    "----\n",
    "Skip this step if there are no cities that have humidity > 100%. "
   ]
  },
  {
   "cell_type": "code",
   "execution_count": 11,
   "metadata": {},
   "outputs": [
    {
     "name": "stdout",
     "output_type": "stream",
     "text": [
      "Removing 17 cities from the DF due to Humidity = 100\n"
     ]
    }
   ],
   "source": [
    "humidity_weather_df = weather_data[weather_data[\"Humidity\"]==100]\n",
    "print(f\"Removing {len(humidity_weather_df)} cities from the DF due to Humidity = 100\")"
   ]
  },
  {
   "cell_type": "code",
   "execution_count": 12,
   "metadata": {},
   "outputs": [],
   "source": [
    "clean_weather_df = weather_data[weather_data[\"Humidity\"]<100]\n",
    "clean_weather_df.head()\n",
    "clean_weather_df.to_csv(\"../output_data/weather_data.csv\",index = False, header = True)"
   ]
  },
  {
   "cell_type": "markdown",
   "metadata": {},
   "source": [
    "## Plotting the Data\n",
    "* Use proper labeling of the plots using plot titles (including date of analysis) and axes labels.\n",
    "* Save the plotted figures as .pngs."
   ]
  },
  {
   "cell_type": "code",
   "execution_count": 13,
   "metadata": {},
   "outputs": [
    {
     "data": {
      "text/plain": [
       "City           object\n",
       "Lat           float64\n",
       "Lng           float64\n",
       "Max temp      float64\n",
       "Humidity        int64\n",
       "Cloudiness      int64\n",
       "Wind Speed    float64\n",
       "Country        object\n",
       "Date            int64\n",
       "dtype: object"
      ]
     },
     "execution_count": 13,
     "metadata": {},
     "output_type": "execute_result"
    }
   ],
   "source": [
    "clean_weather_df.dtypes"
   ]
  },
  {
   "cell_type": "markdown",
   "metadata": {},
   "source": [
    "## Latitude vs. Temperature Plot\n",
    "This graph is examining if there is a relationship between Latitude and Temperature. "
   ]
  },
  {
   "cell_type": "code",
   "execution_count": 14,
   "metadata": {
    "scrolled": true
   },
   "outputs": [
    {
     "data": {
      "image/png": "[encoded data removed]",
      "text/plain": [
       "<Figure size 432x288 with 1 Axes>"
      ]
     },
     "metadata": {
      "needs_background": "light"
     },
     "output_type": "display_data"
    }
   ],
   "source": [
    "lat = clean_weather_df[\"Lat\"].tolist()\n",
    "temp = clean_weather_df[\"Max temp\"].tolist()\n",
    "plt.scatter(lat,temp, marker = \"o\", edgecolors =\"black\")\n",
    "plt.xlabel(\"Latitude\")\n",
    "plt.ylabel(\"Temperature (C)\")\n",
    "plt.title(\"Latitude vs. Temperature\", fontweight = \"bold\")\n",
    "plt.savefig(\"../output_data/LatvsTemp.png\")"
   ]
  },
  {
   "cell_type": "markdown",
   "metadata": {},
   "source": [
    "## Latitude vs. Humidity Plot\n",
    "This graph is examining if there is a relationship between Latitude and Humidity. "
   ]
  },
  {
   "cell_type": "code",
   "execution_count": 15,
   "metadata": {},
   "outputs": [
    {
     "data": {
      "image/png": "[encoded data removed]",
      "text/plain": [
       "<Figure size 432x288 with 1 Axes>"
      ]
     },
     "metadata": {
      "needs_background": "light"
     },
     "output_type": "display_data"
    }
   ],
   "source": [
    "lat = clean_weather_df[\"Lat\"].tolist()\n",
    "humid = clean_weather_df[\"Humidity\"].tolist()\n",
    "plt.scatter(lat, humid, marker = \"o\", edgecolors =\"black\")\n",
    "plt.xlabel(\"Latitude\")\n",
    "plt.ylabel(\"Humidity %\")\n",
    "plt.title(\"Latitude vs. Humidity\", fontweight = \"bold\")\n",
    "plt.savefig(\"../output_data/LatvsHumidity.png\")"
   ]
  },
  {
   "cell_type": "markdown",
   "metadata": {},
   "source": [
    "## Latitude vs. Cloudiness Plot\n",
    "This graph is examining if there is a relationship between Latitude and Cloudiness. "
   ]
  },
  {
   "cell_type": "code",
   "execution_count": 16,
   "metadata": {},
   "outputs": [
    {
     "data": {
      "image/png": "[encoded data removed]",
      "text/plain": [
       "<Figure size 432x288 with 1 Axes>"
      ]
     },
     "metadata": {
      "needs_background": "light"
     },
     "output_type": "display_data"
    }
   ],
   "source": [
    "lat = clean_weather_df[\"Lat\"].tolist()\n",
    "cloud = clean_weather_df[\"Cloudiness\"].tolist()\n",
    "plt.scatter(lat, cloud, marker = \"o\", edgecolors =\"black\")\n",
    "plt.xlabel(\"Latitude\")\n",
    "plt.ylabel(\"Cloudiness\")\n",
    "plt.title(\"Latitude vs. Cloudiness\", fontweight = \"bold\")\n",
    "plt.savefig(\"../output_data/LatvsCloud.png\")"
   ]
  },
  {
   "cell_type": "markdown",
   "metadata": {},
   "source": [
    "## Latitude vs. Wind Speed Plot\n",
    "This graph is examining if there is a relationship between Latitude and Wind Speed. "
   ]
  },
  {
   "cell_type": "code",
   "execution_count": 17,
   "metadata": {},
   "outputs": [
    {
     "data": {
      "image/png": "[encoded data removed]",
      "text/plain": [
       "<Figure size 432x288 with 1 Axes>"
      ]
     },
     "metadata": {
      "needs_background": "light"
     },
     "output_type": "display_data"
    }
   ],
   "source": [
    "lat = clean_weather_df[\"Lat\"].tolist()\n",
    "wind = clean_weather_df[\"Wind Speed\"].tolist()\n",
    "plt.scatter(lat, wind, marker = \"o\", edgecolors =\"black\")\n",
    "plt.xlabel(\"Latitude\")\n",
    "plt.ylabel(\"Wind Speed (mp/h)\")\n",
    "plt.title(\"Latitude vs. Wind Speed\", fontweight = \"bold\")\n",
    "plt.savefig(\"../output_data/LatvsWind.png\")"
   ]
  },
  {
   "cell_type": "markdown",
   "metadata": {},
   "source": [
    "## Linear Regression"
   ]
  },
  {
   "cell_type": "markdown",
   "metadata": {},
   "source": [
    "####  Northern Hemisphere - Max Temp vs. Latitude Linear Regression"
   ]
  },
  {
   "cell_type": "code",
   "execution_count": 18,
   "metadata": {},
   "outputs": [],
   "source": [
    "north_df = clean_weather_df[clean_weather_df['Lat']>0]\n",
    "south_df = clean_weather_df[clean_weather_df['Lat']<0]"
   ]
  },
  {
   "cell_type": "code",
   "execution_count": 19,
   "metadata": {},
   "outputs": [
    {
     "name": "stdout",
     "output_type": "stream",
     "text": [
      "The equation is: y = -0.36x + 29.84\n",
      "The r-squared is: 0.6903794497776368\n"
     ]
    }
   ],
   "source": [
    "x_values = north_df[\"Lat\"]\n",
    "y_values = north_df[\"Max temp\"]\n",
    "(slope, intercept, rvalue, pvalue, stderr) = linregress(x_values, y_values)\n",
    "regress_values = x_values * slope + intercept\n",
    "line_eq = \"y = \" + str(round(slope,2)) + \"x + \" + str(round(intercept,2))\n",
    "print(f\"The equation is: {line_eq}\")\n",
    "print(f\"The r-squared is: {rvalue**2}\")"
   ]
  },
  {
   "cell_type": "markdown",
   "metadata": {},
   "source": [
    "####  Southern Hemisphere - Max Temp vs. Latitude Linear Regression"
   ]
  },
  {
   "cell_type": "code",
   "execution_count": 20,
   "metadata": {},
   "outputs": [
    {
     "name": "stdout",
     "output_type": "stream",
     "text": [
      "The equation is: y = 0.39x + 27.34\n",
      "The r-squared is: 0.5142840833767836\n"
     ]
    }
   ],
   "source": [
    "x_values = south_df[\"Lat\"]\n",
    "y_values = south_df[\"Max temp\"]\n",
    "(slope, intercept, rvalue, pvalue, stderr) = linregress(x_values, y_values)\n",
    "regress_values = x_values * slope + intercept\n",
    "line_eq = \"y = \" + str(round(slope,2)) + \"x + \" + str(round(intercept,2))\n",
    "print(f\"The equation is: {line_eq}\")\n",
    "print(f\"The r-squared is: {rvalue**2}\")"
   ]
  },
  {
   "cell_type": "markdown",
   "metadata": {},
   "source": [
    "### Analysis\n",
    "There seems to be a reasonable relationship between Latitude and the temperature. Particularly in the Northern hemisphere with the R-Squared value = 0.69, telling us quite a strong correlation exisits."
   ]
  },
  {
   "cell_type": "markdown",
   "metadata": {},
   "source": [
    "####  Northern Hemisphere - Humidity (%) vs. Latitude Linear Regression"
   ]
  },
  {
   "cell_type": "code",
   "execution_count": 21,
   "metadata": {},
   "outputs": [
    {
     "name": "stdout",
     "output_type": "stream",
     "text": [
      "The equation is: y = 0.13x + 69.32\n",
      "The r-squared is: 0.017630413847764325\n"
     ]
    }
   ],
   "source": [
    "x_values = north_df[\"Lat\"]\n",
    "y_values = north_df[\"Humidity\"]\n",
    "(slope, intercept, rvalue, pvalue, stderr) = linregress(x_values, y_values)\n",
    "regress_values = x_values * slope + intercept\n",
    "line_eq = \"y = \" + str(round(slope,2)) + \"x + \" + str(round(intercept,2))\n",
    "print(f\"The equation is: {line_eq}\")\n",
    "print(f\"The r-squared is: {rvalue**2}\")"
   ]
  },
  {
   "cell_type": "markdown",
   "metadata": {},
   "source": [
    "####  Southern Hemisphere - Humidity (%) vs. Latitude Linear Regression"
   ]
  },
  {
   "cell_type": "code",
   "execution_count": 22,
   "metadata": {},
   "outputs": [
    {
     "name": "stdout",
     "output_type": "stream",
     "text": [
      "The equation is: y = 0.21x + 74.79\n",
      "The r-squared is: 0.017115286469697573\n"
     ]
    }
   ],
   "source": [
    "x_values = south_df[\"Lat\"]\n",
    "y_values = south_df[\"Humidity\"]\n",
    "(slope, intercept, rvalue, pvalue, stderr) = linregress(x_values, y_values)\n",
    "regress_values = x_values * slope + intercept\n",
    "line_eq = \"y = \" + str(round(slope,2)) + \"x + \" + str(round(intercept,2))\n",
    "print(f\"The equation is: {line_eq}\")\n",
    "print(f\"The r-squared is: {rvalue**2}\")"
   ]
  },
  {
   "cell_type": "markdown",
   "metadata": {},
   "source": [
    "### Analysis\n",
    "There is little to no correlation between latitude and humidity in either hemisphere."
   ]
  },
  {
   "cell_type": "markdown",
   "metadata": {},
   "source": [
    "####  Northern Hemisphere - Cloudiness (%) vs. Latitude Linear Regression"
   ]
  },
  {
   "cell_type": "code",
   "execution_count": 23,
   "metadata": {},
   "outputs": [
    {
     "name": "stdout",
     "output_type": "stream",
     "text": [
      "The equation is: y = 0.16x + 47.88\n",
      "The r-squared is: 0.007271338542374678\n"
     ]
    }
   ],
   "source": [
    "x_values = north_df[\"Lat\"]\n",
    "y_values = north_df[\"Cloudiness\"]\n",
    "(slope, intercept, rvalue, pvalue, stderr) = linregress(x_values, y_values)\n",
    "regress_values = x_values * slope + intercept\n",
    "line_eq = \"y = \" + str(round(slope,2)) + \"x + \" + str(round(intercept,2))\n",
    "print(f\"The equation is: {line_eq}\")\n",
    "print(f\"The r-squared is: {rvalue**2}\")"
   ]
  },
  {
   "cell_type": "markdown",
   "metadata": {},
   "source": [
    "####  Southern Hemisphere - Cloudiness (%) vs. Latitude Linear Regression"
   ]
  },
  {
   "cell_type": "code",
   "execution_count": 24,
   "metadata": {},
   "outputs": [
    {
     "name": "stdout",
     "output_type": "stream",
     "text": [
      "The equation is: y = 0.17x + 44.35\n",
      "The r-squared is: 0.0029569739244015214\n"
     ]
    }
   ],
   "source": [
    "x_values = south_df[\"Lat\"]\n",
    "y_values = south_df[\"Cloudiness\"]\n",
    "(slope, intercept, rvalue, pvalue, stderr) = linregress(x_values, y_values)\n",
    "regress_values = x_values * slope + intercept\n",
    "line_eq = \"y = \" + str(round(slope,2)) + \"x + \" + str(round(intercept,2))\n",
    "print(f\"The equation is: {line_eq}\")\n",
    "print(f\"The r-squared is: {rvalue**2}\")"
   ]
  },
  {
   "cell_type": "markdown",
   "metadata": {},
   "source": [
    "### Analysis\n",
    "There is little to no correlation between latitude and cloudiness in either hemisphere."
   ]
  },
  {
   "cell_type": "markdown",
   "metadata": {},
   "source": [
    "####  Northern Hemisphere - Wind Speed (mph) vs. Latitude Linear Regression"
   ]
  },
  {
   "cell_type": "code",
   "execution_count": 25,
   "metadata": {},
   "outputs": [
    {
     "name": "stdout",
     "output_type": "stream",
     "text": [
      "The equation is: y = 0.02x + 2.81\n",
      "The r-squared is: 0.02066629287687062\n"
     ]
    }
   ],
   "source": [
    "x_values = north_df[\"Lat\"]\n",
    "y_values = north_df[\"Wind Speed\"]\n",
    "(slope, intercept, rvalue, pvalue, stderr) = linregress(x_values, y_values)\n",
    "regress_values = x_values * slope + intercept\n",
    "line_eq = \"y = \" + str(round(slope,2)) + \"x + \" + str(round(intercept,2))\n",
    "print(f\"The equation is: {line_eq}\")\n",
    "print(f\"The r-squared is: {rvalue**2}\")"
   ]
  },
  {
   "cell_type": "markdown",
   "metadata": {},
   "source": [
    "####  Southern Hemisphere - Wind Speed (mph) vs. Latitude Linear Regression"
   ]
  },
  {
   "cell_type": "code",
   "execution_count": 26,
   "metadata": {},
   "outputs": [
    {
     "name": "stdout",
     "output_type": "stream",
     "text": [
      "The equation is: y = -0.07x + 2.04\n",
      "The r-squared is: 0.12387112709588297\n"
     ]
    }
   ],
   "source": [
    "x_values = south_df[\"Lat\"]\n",
    "y_values = south_df[\"Wind Speed\"]\n",
    "(slope, intercept, rvalue, pvalue, stderr) = linregress(x_values, y_values)\n",
    "regress_values = x_values * slope + intercept\n",
    "line_eq = \"y = \" + str(round(slope,2)) + \"x + \" + str(round(intercept,2))\n",
    "print(f\"The equation is: {line_eq}\")\n",
    "print(f\"The r-squared is: {rvalue**2}\")"
   ]
  },
  {
   "cell_type": "markdown",
   "metadata": {},
   "source": [
    "### Analysis\n",
    "There is little to no correlation between latitude and wind speed in either hemisphere."
   ]
  },
  {
   "cell_type": "code",
   "execution_count": null,
   "metadata": {},
   "outputs": [],
   "source": []
  }
 ],
 "metadata": {
  "anaconda-cloud": {},
  "kernel_info": {
   "name": "python3"
  },
  "kernelspec": {
   "display_name": "Python 3",
   "language": "python",
   "name": "python3"
  },
  "language_info": {
   "codemirror_mode": {
    "name": "ipython",
    "version": 3
   },
   "file_extension": ".py",
   "mimetype": "text/x-python",
   "name": "python",
   "nbconvert_exporter": "python",
   "pygments_lexer": "ipython3",
   "version": "3.6.10"
  },
  "latex_envs": {
   "LaTeX_envs_menu_present": true,
   "autoclose": false,
   "autocomplete": true,
   "bibliofile": "biblio.bib",
   "cite_by": "apalike",
   "current_citInitial": 1,
   "eqLabelWithNumbers": true,
   "eqNumInitial": 1,
   "hotkeys": {
    "equation": "Ctrl-E",
    "itemize": "Ctrl-I"
   },
   "labels_anchors": false,
   "latex_user_defs": false,
   "report_style_numbering": false,
   "user_envs_cfg": false
  },
  "nteract": {
   "version": "0.12.3"
  }
 },
 "nbformat": 4,
 "nbformat_minor": 2
}
